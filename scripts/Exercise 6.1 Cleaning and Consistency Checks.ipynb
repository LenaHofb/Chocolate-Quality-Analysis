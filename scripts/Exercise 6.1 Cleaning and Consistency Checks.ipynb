{
 "cells": [
  {
   "cell_type": "code",
   "execution_count": 201,
   "id": "80d4e63d-d6d9-4c54-9af7-1a51befda2dc",
   "metadata": {},
   "outputs": [],
   "source": [
    "#Import Libraries\n",
    "import pandas as pd\n",
    "import numpy as np\n",
    "import os"
   ]
  },
  {
   "cell_type": "code",
   "execution_count": 202,
   "id": "a0cfc938-d3fc-477c-8d04-d783056ecb68",
   "metadata": {},
   "outputs": [],
   "source": [
    "# Load the Excel file into a DataFrame\n",
    "file_path = r'C:\\Users\\north\\10-2024 Exploring Chocolate Bar Quality' \n",
    "df_cacao = pd.read_excel(os.path.join(file_path, '02 Data', 'Original Data', 'flavors_of_cacao.xlsx'))"
   ]
  },
  {
   "cell_type": "code",
   "execution_count": 203,
   "id": "778820a0-c275-4a44-8af2-eafa33c47b5a",
   "metadata": {},
   "outputs": [
    {
     "data": {
      "text/html": [
       "<div>\n",
       "<style scoped>\n",
       "    .dataframe tbody tr th:only-of-type {\n",
       "        vertical-align: middle;\n",
       "    }\n",
       "\n",
       "    .dataframe tbody tr th {\n",
       "        vertical-align: top;\n",
       "    }\n",
       "\n",
       "    .dataframe thead th {\n",
       "        text-align: right;\n",
       "    }\n",
       "</style>\n",
       "<table border=\"1\" class=\"dataframe\">\n",
       "  <thead>\n",
       "    <tr style=\"text-align: right;\">\n",
       "      <th></th>\n",
       "      <th>REF</th>\n",
       "      <th>Review Date</th>\n",
       "      <th>Rating</th>\n",
       "    </tr>\n",
       "  </thead>\n",
       "  <tbody>\n",
       "    <tr>\n",
       "      <th>count</th>\n",
       "      <td>1791.000000</td>\n",
       "      <td>1791.000000</td>\n",
       "      <td>1791.000000</td>\n",
       "    </tr>\n",
       "    <tr>\n",
       "      <th>mean</th>\n",
       "      <td>1035.787828</td>\n",
       "      <td>2012.325516</td>\n",
       "      <td>3.186628</td>\n",
       "    </tr>\n",
       "    <tr>\n",
       "      <th>std</th>\n",
       "      <td>552.952598</td>\n",
       "      <td>2.926972</td>\n",
       "      <td>0.477310</td>\n",
       "    </tr>\n",
       "    <tr>\n",
       "      <th>min</th>\n",
       "      <td>5.000000</td>\n",
       "      <td>2006.000000</td>\n",
       "      <td>1.000000</td>\n",
       "    </tr>\n",
       "    <tr>\n",
       "      <th>25%</th>\n",
       "      <td>576.000000</td>\n",
       "      <td>2010.000000</td>\n",
       "      <td>3.000000</td>\n",
       "    </tr>\n",
       "    <tr>\n",
       "      <th>50%</th>\n",
       "      <td>1069.000000</td>\n",
       "      <td>2013.000000</td>\n",
       "      <td>3.250000</td>\n",
       "    </tr>\n",
       "    <tr>\n",
       "      <th>75%</th>\n",
       "      <td>1504.000000</td>\n",
       "      <td>2015.000000</td>\n",
       "      <td>3.500000</td>\n",
       "    </tr>\n",
       "    <tr>\n",
       "      <th>max</th>\n",
       "      <td>1952.000000</td>\n",
       "      <td>2017.000000</td>\n",
       "      <td>5.000000</td>\n",
       "    </tr>\n",
       "  </tbody>\n",
       "</table>\n",
       "</div>"
      ],
      "text/plain": [
       "               REF  Review Date       Rating\n",
       "count  1791.000000  1791.000000  1791.000000\n",
       "mean   1035.787828  2012.325516     3.186628\n",
       "std     552.952598     2.926972     0.477310\n",
       "min       5.000000  2006.000000     1.000000\n",
       "25%     576.000000  2010.000000     3.000000\n",
       "50%    1069.000000  2013.000000     3.250000\n",
       "75%    1504.000000  2015.000000     3.500000\n",
       "max    1952.000000  2017.000000     5.000000"
      ]
     },
     "execution_count": 203,
     "metadata": {},
     "output_type": "execute_result"
    }
   ],
   "source": [
    "# Display summary statistics for initial insights\n",
    "df_cacao.describe()"
   ]
  },
  {
   "cell_type": "code",
   "execution_count": 204,
   "id": "fd7851ea-2019-42cc-967c-ad8e829bc9c5",
   "metadata": {},
   "outputs": [
    {
     "data": {
      "text/html": [
       "<div>\n",
       "<style scoped>\n",
       "    .dataframe tbody tr th:only-of-type {\n",
       "        vertical-align: middle;\n",
       "    }\n",
       "\n",
       "    .dataframe tbody tr th {\n",
       "        vertical-align: top;\n",
       "    }\n",
       "\n",
       "    .dataframe thead th {\n",
       "        text-align: right;\n",
       "    }\n",
       "</style>\n",
       "<table border=\"1\" class=\"dataframe\">\n",
       "  <thead>\n",
       "    <tr style=\"text-align: right;\">\n",
       "      <th></th>\n",
       "      <th>Company / (Maker-if known)</th>\n",
       "      <th>Specific Bean Origin / or Bar Name</th>\n",
       "      <th>REF</th>\n",
       "      <th>Review Date</th>\n",
       "      <th>Cocoa Percent</th>\n",
       "      <th>Company Location</th>\n",
       "      <th>Rating</th>\n",
       "      <th>Bean Type</th>\n",
       "      <th>Broad Bean Origin</th>\n",
       "    </tr>\n",
       "  </thead>\n",
       "  <tbody>\n",
       "    <tr>\n",
       "      <th>0</th>\n",
       "      <td>A. Morin</td>\n",
       "      <td>Agua Grande</td>\n",
       "      <td>1876.0</td>\n",
       "      <td>2016.0</td>\n",
       "      <td>0.63</td>\n",
       "      <td>France</td>\n",
       "      <td>3.75</td>\n",
       "      <td>NaN</td>\n",
       "      <td>Sao Tome</td>\n",
       "    </tr>\n",
       "    <tr>\n",
       "      <th>1</th>\n",
       "      <td>A. Morin</td>\n",
       "      <td>Kpime</td>\n",
       "      <td>1676.0</td>\n",
       "      <td>2015.0</td>\n",
       "      <td>0.7</td>\n",
       "      <td>France</td>\n",
       "      <td>2.75</td>\n",
       "      <td>NaN</td>\n",
       "      <td>Togo</td>\n",
       "    </tr>\n",
       "    <tr>\n",
       "      <th>2</th>\n",
       "      <td>A. Morin</td>\n",
       "      <td>Atsane</td>\n",
       "      <td>1676.0</td>\n",
       "      <td>2015.0</td>\n",
       "      <td>0.7</td>\n",
       "      <td>France</td>\n",
       "      <td>3.00</td>\n",
       "      <td>NaN</td>\n",
       "      <td>Togo</td>\n",
       "    </tr>\n",
       "    <tr>\n",
       "      <th>3</th>\n",
       "      <td>A. Morin</td>\n",
       "      <td>Akata</td>\n",
       "      <td>1680.0</td>\n",
       "      <td>2015.0</td>\n",
       "      <td>0.7</td>\n",
       "      <td>France</td>\n",
       "      <td>3.50</td>\n",
       "      <td>NaN</td>\n",
       "      <td>Togo</td>\n",
       "    </tr>\n",
       "    <tr>\n",
       "      <th>4</th>\n",
       "      <td>A. Morin</td>\n",
       "      <td>Quilla</td>\n",
       "      <td>1704.0</td>\n",
       "      <td>2015.0</td>\n",
       "      <td>0.7</td>\n",
       "      <td>France</td>\n",
       "      <td>3.50</td>\n",
       "      <td>NaN</td>\n",
       "      <td>Peru</td>\n",
       "    </tr>\n",
       "    <tr>\n",
       "      <th>5</th>\n",
       "      <td>A. Morin</td>\n",
       "      <td>Carenero</td>\n",
       "      <td>1315.0</td>\n",
       "      <td>2014.0</td>\n",
       "      <td>0.7</td>\n",
       "      <td>France</td>\n",
       "      <td>2.75</td>\n",
       "      <td>Criollo</td>\n",
       "      <td>Venezuela</td>\n",
       "    </tr>\n",
       "    <tr>\n",
       "      <th>6</th>\n",
       "      <td>A. Morin</td>\n",
       "      <td>Cuba</td>\n",
       "      <td>1315.0</td>\n",
       "      <td>2014.0</td>\n",
       "      <td>0.7</td>\n",
       "      <td>France</td>\n",
       "      <td>3.50</td>\n",
       "      <td>NaN</td>\n",
       "      <td>Cuba</td>\n",
       "    </tr>\n",
       "    <tr>\n",
       "      <th>7</th>\n",
       "      <td>A. Morin</td>\n",
       "      <td>Sur del Lago</td>\n",
       "      <td>1315.0</td>\n",
       "      <td>2014.0</td>\n",
       "      <td>0.7</td>\n",
       "      <td>France</td>\n",
       "      <td>3.50</td>\n",
       "      <td>Criollo</td>\n",
       "      <td>Venezuela</td>\n",
       "    </tr>\n",
       "    <tr>\n",
       "      <th>8</th>\n",
       "      <td>A. Morin</td>\n",
       "      <td>Puerto Cabello</td>\n",
       "      <td>1319.0</td>\n",
       "      <td>2014.0</td>\n",
       "      <td>0.7</td>\n",
       "      <td>France</td>\n",
       "      <td>3.75</td>\n",
       "      <td>Criollo</td>\n",
       "      <td>Venezuela</td>\n",
       "    </tr>\n",
       "    <tr>\n",
       "      <th>9</th>\n",
       "      <td>A. Morin</td>\n",
       "      <td>Pablino</td>\n",
       "      <td>1319.0</td>\n",
       "      <td>2014.0</td>\n",
       "      <td>0.7</td>\n",
       "      <td>France</td>\n",
       "      <td>4.00</td>\n",
       "      <td>NaN</td>\n",
       "      <td>Peru</td>\n",
       "    </tr>\n",
       "  </tbody>\n",
       "</table>\n",
       "</div>"
      ],
      "text/plain": [
       "  Company / (Maker-if known) Specific Bean Origin / or Bar Name     REF  \\\n",
       "0                   A. Morin                        Agua Grande  1876.0   \n",
       "1                   A. Morin                              Kpime  1676.0   \n",
       "2                   A. Morin                             Atsane  1676.0   \n",
       "3                   A. Morin                              Akata  1680.0   \n",
       "4                   A. Morin                             Quilla  1704.0   \n",
       "5                   A. Morin                           Carenero  1315.0   \n",
       "6                   A. Morin                               Cuba  1315.0   \n",
       "7                   A. Morin                       Sur del Lago  1315.0   \n",
       "8                   A. Morin                     Puerto Cabello  1319.0   \n",
       "9                   A. Morin                            Pablino  1319.0   \n",
       "\n",
       "   Review Date Cocoa Percent Company Location  Rating Bean Type  \\\n",
       "0       2016.0          0.63           France    3.75       NaN   \n",
       "1       2015.0           0.7           France    2.75       NaN   \n",
       "2       2015.0           0.7           France    3.00       NaN   \n",
       "3       2015.0           0.7           France    3.50       NaN   \n",
       "4       2015.0           0.7           France    3.50       NaN   \n",
       "5       2014.0           0.7           France    2.75   Criollo   \n",
       "6       2014.0           0.7           France    3.50       NaN   \n",
       "7       2014.0           0.7           France    3.50   Criollo   \n",
       "8       2014.0           0.7           France    3.75   Criollo   \n",
       "9       2014.0           0.7           France    4.00       NaN   \n",
       "\n",
       "  Broad Bean Origin  \n",
       "0          Sao Tome  \n",
       "1              Togo  \n",
       "2              Togo  \n",
       "3              Togo  \n",
       "4              Peru  \n",
       "5         Venezuela  \n",
       "6              Cuba  \n",
       "7         Venezuela  \n",
       "8         Venezuela  \n",
       "9              Peru  "
      ]
     },
     "execution_count": 204,
     "metadata": {},
     "output_type": "execute_result"
    }
   ],
   "source": [
    "# View the first few rows\n",
    "df_cacao.head(10)"
   ]
  },
  {
   "cell_type": "code",
   "execution_count": 205,
   "id": "06f5764c-023d-48e6-ab6d-4fbd1f78f2ce",
   "metadata": {},
   "outputs": [],
   "source": [
    "# Rename columns\n",
    "df_cacao = df_cacao.rename(columns={\n",
    "    'Company / (Maker-if known)': 'Company',\n",
    "    'Specific Bean Origin / or Bar Name': 'Bean Origin',\n",
    "    'REF': 'Reference'\n",
    "})\n"
   ]
  },
  {
   "cell_type": "code",
   "execution_count": 206,
   "id": "82866e72-ad34-4aaa-aea4-e01bbee83eca",
   "metadata": {},
   "outputs": [
    {
     "name": "stdout",
     "output_type": "stream",
     "text": [
      "Company                0\n",
      "Bean Origin            0\n",
      "Reference              4\n",
      "Review Date            4\n",
      "Cocoa Percent          4\n",
      "Company Location       4\n",
      "Rating                 4\n",
      "Bean Type            889\n",
      "Broad Bean Origin     78\n",
      "dtype: int64\n"
     ]
    }
   ],
   "source": [
    "# Check for missing values\n",
    "missing_values = df_cacao.isnull().sum()\n",
    "print(missing_values)\n"
   ]
  },
  {
   "cell_type": "code",
   "execution_count": 207,
   "id": "5a6b0db9-11cd-4503-ade1-79b3ad06803e",
   "metadata": {},
   "outputs": [
    {
     "name": "stdout",
     "output_type": "stream",
     "text": [
      "Company              0\n",
      "Bean Origin          0\n",
      "Reference            0\n",
      "Review Date          0\n",
      "Cocoa Percent        0\n",
      "Company Location     0\n",
      "Rating               0\n",
      "Bean Type            0\n",
      "Broad Bean Origin    0\n",
      "dtype: int64\n",
      "    Company     Bean Origin  Reference  Review Date Cocoa Percent  \\\n",
      "0  A. Morin     Agua Grande     1876.0       2016.0          0.63   \n",
      "1  A. Morin           Kpime     1676.0       2015.0           0.7   \n",
      "2  A. Morin          Atsane     1676.0       2015.0           0.7   \n",
      "3  A. Morin           Akata     1680.0       2015.0           0.7   \n",
      "4  A. Morin          Quilla     1704.0       2015.0           0.7   \n",
      "5  A. Morin        Carenero     1315.0       2014.0           0.7   \n",
      "6  A. Morin            Cuba     1315.0       2014.0           0.7   \n",
      "7  A. Morin    Sur del Lago     1315.0       2014.0           0.7   \n",
      "8  A. Morin  Puerto Cabello     1319.0       2014.0           0.7   \n",
      "9  A. Morin         Pablino     1319.0       2014.0           0.7   \n",
      "\n",
      "  Company Location  Rating Bean Type Broad Bean Origin  \n",
      "0           France    3.75   Unknown          Sao Tome  \n",
      "1           France    2.75   Unknown              Togo  \n",
      "2           France    3.00   Unknown              Togo  \n",
      "3           France    3.50   Unknown              Togo  \n",
      "4           France    3.50   Unknown              Peru  \n",
      "5           France    2.75   Criollo         Venezuela  \n",
      "6           France    3.50   Unknown              Cuba  \n",
      "7           France    3.50   Criollo         Venezuela  \n",
      "8           France    3.75   Criollo         Venezuela  \n",
      "9           France    4.00   Unknown              Peru  \n"
     ]
    },
    {
     "name": "stderr",
     "output_type": "stream",
     "text": [
      "C:\\Users\\north\\AppData\\Local\\Temp\\ipykernel_11976\\3305345373.py:8: FutureWarning: A value is trying to be set on a copy of a DataFrame or Series through chained assignment using an inplace method.\n",
      "The behavior will change in pandas 3.0. This inplace method will never work because the intermediate object on which we are setting values always behaves as a copy.\n",
      "\n",
      "For example, when doing 'df[col].method(value, inplace=True)', try using 'df.method({col: value}, inplace=True)' or df[col] = df[col].method(value) instead, to perform the operation inplace on the original object.\n",
      "\n",
      "\n",
      "  df_cacao['Bean Type'].fillna('Unknown', inplace=True)\n",
      "C:\\Users\\north\\AppData\\Local\\Temp\\ipykernel_11976\\3305345373.py:9: FutureWarning: A value is trying to be set on a copy of a DataFrame or Series through chained assignment using an inplace method.\n",
      "The behavior will change in pandas 3.0. This inplace method will never work because the intermediate object on which we are setting values always behaves as a copy.\n",
      "\n",
      "For example, when doing 'df[col].method(value, inplace=True)', try using 'df.method({col: value}, inplace=True)' or df[col] = df[col].method(value) instead, to perform the operation inplace on the original object.\n",
      "\n",
      "\n",
      "  df_cacao['Broad Bean Origin'].fillna('Unknown', inplace=True)\n"
     ]
    }
   ],
   "source": [
    "# Strip whitespace from column names\n",
    "df_cacao.columns = df_cacao.columns.str.strip()\n",
    "\n",
    "# Remove rows where there are missing values in these key columns\n",
    "df_cacao.dropna(subset=['Reference', 'Review Date', 'Cocoa Percent', 'Company Location', 'Rating'], inplace=True)\n",
    "\n",
    "# Fill missing values in 'Bean Type' and 'Broad Bean Origin' with 'Unknown'\n",
    "df_cacao['Bean Type'].fillna('Unknown', inplace=True)\n",
    "df_cacao['Broad Bean Origin'].fillna('Unknown', inplace=True)\n",
    "\n",
    "# Check for remaining missing values to ensure the operation was successful\n",
    "missing_values_after_cleaning = df_cacao.isnull().sum()\n",
    "print(missing_values_after_cleaning)\n",
    "\n",
    "# Display the first few rows of the cleaned dataset\n",
    "print(df_cacao.head(10))\n"
   ]
  },
  {
   "cell_type": "code",
   "execution_count": 216,
   "id": "4092d719-a265-434c-b5b6-7da7da964aca",
   "metadata": {},
   "outputs": [
    {
     "name": "stdout",
     "output_type": "stream",
     "text": [
      "Company               object\n",
      "Bean Origin           object\n",
      "Reference            float64\n",
      "Review Date          float64\n",
      "Cocoa Percent         object\n",
      "Company Location      object\n",
      "Rating               float64\n",
      "Bean Type             object\n",
      "Broad Bean Origin     object\n",
      "dtype: object\n"
     ]
    }
   ],
   "source": [
    "# Check the data types\n",
    "print(df_cacao.dtypes)"
   ]
  },
  {
   "cell_type": "code",
   "execution_count": 218,
   "id": "cc2da066-8c68-4a40-aef8-3d478d9aab0e",
   "metadata": {},
   "outputs": [
    {
     "name": "stdout",
     "output_type": "stream",
     "text": [
      "[0.63 0.7 0.6 0.8 0.88 0.72 0.55 0.75 0.65 0.85 0.73 0.64 0.66 0.68 0.5 1\n",
      " 0.77 0.9 0.71 0.83 0.78 0.74 0.76 0.86 0.82 0.69 0.91 0.42 0.61 '73.5%'\n",
      " 0.62 0.67 0.58 '60.5%' 0.79 0.81 0.57 '72.5%' 0.56 0.46 0.89 0.99 0.84\n",
      " 0.53 0.87]\n"
     ]
    }
   ],
   "source": [
    "# Display unique values in 'Cocoa Percent' to identify any formatting issues\n",
    "print(df_cacao['Cocoa Percent'].unique())"
   ]
  },
  {
   "cell_type": "code",
   "execution_count": 220,
   "id": "7f7f6c58-85b9-433b-9a3a-9169d6bff4df",
   "metadata": {},
   "outputs": [
    {
     "name": "stdout",
     "output_type": "stream",
     "text": [
      "[ 0.63  0.7   0.6   0.8   0.88  0.72  0.55  0.75  0.65  0.85  0.73  0.64\n",
      "  0.66  0.68  0.5   1.    0.77  0.9   0.71  0.83  0.78  0.74  0.76  0.86\n",
      "  0.82  0.69  0.91  0.42  0.61 73.5   0.62  0.67  0.58 60.5   0.79  0.81\n",
      "  0.57 72.5   0.56  0.46  0.89  0.99  0.84  0.53  0.87]\n"
     ]
    }
   ],
   "source": [
    "# Remove '%' symbols and strip extra spaces\n",
    "df_cacao['Cocoa Percent'] = df_cacao['Cocoa Percent'].astype(str).str.replace('%', '', regex=False).str.strip()\n",
    "\n",
    "# Convert to float\n",
    "df_cacao['Cocoa Percent'] = pd.to_numeric(df_cacao['Cocoa Percent'], errors='coerce')\n",
    "\n",
    "# Display the unique values after conversion to verify\n",
    "print(df_cacao['Cocoa Percent'].unique())\n"
   ]
  },
  {
   "cell_type": "code",
   "execution_count": 222,
   "id": "03bd670c-af9b-49b1-882f-83db3e7a1a8c",
   "metadata": {},
   "outputs": [
    {
     "name": "stdout",
     "output_type": "stream",
     "text": [
      "Missing values in 'Cocoa Percent' after conversion: 0\n"
     ]
    }
   ],
   "source": [
    "# Check for any remaining missing values in 'Cocoa Percent'\n",
    "missing_values_cocoa_percent = df_cacao['Cocoa Percent'].isnull().sum()\n",
    "print(f\"Missing values in 'Cocoa Percent' after conversion: {missing_values_cocoa_percent}\")"
   ]
  },
  {
   "cell_type": "code",
   "execution_count": 234,
   "id": "ae6aec2f-7ee9-4523-b495-509bfcc38910",
   "metadata": {},
   "outputs": [],
   "source": [
    "#  Converting 'Review Date'from float64 to int\n",
    "df_cacao['Review Date'] = df_cacao['Review Date'].astype(int)\n"
   ]
  },
  {
   "cell_type": "code",
   "execution_count": 236,
   "id": "3a2d4f81-e283-4e88-ad84-83e3e8ac6241",
   "metadata": {},
   "outputs": [
    {
     "name": "stdout",
     "output_type": "stream",
     "text": [
      "Company               object\n",
      "Bean Origin           object\n",
      "Reference            float64\n",
      "Review Date            int32\n",
      "Cocoa Percent        float64\n",
      "Company Location      object\n",
      "Rating               float64\n",
      "Bean Type             object\n",
      "Broad Bean Origin     object\n",
      "dtype: object\n"
     ]
    }
   ],
   "source": [
    "# Check the data types\n",
    "print(df_cacao.dtypes)"
   ]
  },
  {
   "cell_type": "code",
   "execution_count": 238,
   "id": "4a0e7e4d-0ced-4313-b021-03a7134eb36e",
   "metadata": {},
   "outputs": [
    {
     "name": "stdout",
     "output_type": "stream",
     "text": [
      "Empty DataFrame\n",
      "Columns: [Company, Bean Origin, Reference, Review Date, Cocoa Percent, Company Location, Rating, Bean Type, Broad Bean Origin]\n",
      "Index: []\n",
      "Number of duplicate rows (across all columns): 0\n"
     ]
    }
   ],
   "source": [
    "# Check for duplicate rows across all columns\n",
    "duplicates_all = df_cacao[df_cacao.duplicated()]\n",
    "\n",
    "# Display the duplicate rows\n",
    "print(duplicates_all)\n",
    "\n",
    "# Count the number of duplicate rows\n",
    "num_duplicates_all = duplicates_all.shape[0]\n",
    "print(f\"Number of duplicate rows (across all columns): {num_duplicates_all}\")\n"
   ]
  },
  {
   "cell_type": "code",
   "execution_count": 240,
   "id": "2b0fc9cb-71d8-4c95-8cd4-bacbb27bd8f4",
   "metadata": {},
   "outputs": [
    {
     "name": "stdout",
     "output_type": "stream",
     "text": [
      "Out-of-range 'Cocoa Percent' values: Empty DataFrame\n",
      "Columns: [Company, Bean Origin, Reference, Review Date, Cocoa Percent, Company Location, Rating, Bean Type, Broad Bean Origin]\n",
      "Index: []\n"
     ]
    }
   ],
   "source": [
    "# Check for out-of-range values in 'Cocoa Percent'\n",
    "out_of_range_cocoa = df_cacao[(df_cacao['Cocoa Percent'] < 0) | (df_cacao['Cocoa Percent'] > 100)]\n",
    "print(f\"Out-of-range 'Cocoa Percent' values: {out_of_range_cocoa}\")\n"
   ]
  },
  {
   "cell_type": "code",
   "execution_count": 242,
   "id": "7e65cd26-ad08-494b-86ba-337ce10e8742",
   "metadata": {},
   "outputs": [
    {
     "data": {
      "text/html": [
       "<div>\n",
       "<style scoped>\n",
       "    .dataframe tbody tr th:only-of-type {\n",
       "        vertical-align: middle;\n",
       "    }\n",
       "\n",
       "    .dataframe tbody tr th {\n",
       "        vertical-align: top;\n",
       "    }\n",
       "\n",
       "    .dataframe thead th {\n",
       "        text-align: right;\n",
       "    }\n",
       "</style>\n",
       "<table border=\"1\" class=\"dataframe\">\n",
       "  <thead>\n",
       "    <tr style=\"text-align: right;\">\n",
       "      <th></th>\n",
       "      <th>Reference</th>\n",
       "      <th>Review Date</th>\n",
       "      <th>Cocoa Percent</th>\n",
       "      <th>Rating</th>\n",
       "    </tr>\n",
       "  </thead>\n",
       "  <tbody>\n",
       "    <tr>\n",
       "      <th>count</th>\n",
       "      <td>1791.000000</td>\n",
       "      <td>1791.000000</td>\n",
       "      <td>1791.000000</td>\n",
       "      <td>1791.000000</td>\n",
       "    </tr>\n",
       "    <tr>\n",
       "      <th>mean</th>\n",
       "      <td>1035.787828</td>\n",
       "      <td>2012.325516</td>\n",
       "      <td>0.991854</td>\n",
       "      <td>3.186628</td>\n",
       "    </tr>\n",
       "    <tr>\n",
       "      <th>std</th>\n",
       "      <td>552.952598</td>\n",
       "      <td>2.926972</td>\n",
       "      <td>4.399832</td>\n",
       "      <td>0.477310</td>\n",
       "    </tr>\n",
       "    <tr>\n",
       "      <th>min</th>\n",
       "      <td>5.000000</td>\n",
       "      <td>2006.000000</td>\n",
       "      <td>0.420000</td>\n",
       "      <td>1.000000</td>\n",
       "    </tr>\n",
       "    <tr>\n",
       "      <th>25%</th>\n",
       "      <td>576.000000</td>\n",
       "      <td>2010.000000</td>\n",
       "      <td>0.700000</td>\n",
       "      <td>3.000000</td>\n",
       "    </tr>\n",
       "    <tr>\n",
       "      <th>50%</th>\n",
       "      <td>1069.000000</td>\n",
       "      <td>2013.000000</td>\n",
       "      <td>0.700000</td>\n",
       "      <td>3.250000</td>\n",
       "    </tr>\n",
       "    <tr>\n",
       "      <th>75%</th>\n",
       "      <td>1504.000000</td>\n",
       "      <td>2015.000000</td>\n",
       "      <td>0.750000</td>\n",
       "      <td>3.500000</td>\n",
       "    </tr>\n",
       "    <tr>\n",
       "      <th>max</th>\n",
       "      <td>1952.000000</td>\n",
       "      <td>2017.000000</td>\n",
       "      <td>73.500000</td>\n",
       "      <td>5.000000</td>\n",
       "    </tr>\n",
       "  </tbody>\n",
       "</table>\n",
       "</div>"
      ],
      "text/plain": [
       "         Reference  Review Date  Cocoa Percent       Rating\n",
       "count  1791.000000  1791.000000    1791.000000  1791.000000\n",
       "mean   1035.787828  2012.325516       0.991854     3.186628\n",
       "std     552.952598     2.926972       4.399832     0.477310\n",
       "min       5.000000  2006.000000       0.420000     1.000000\n",
       "25%     576.000000  2010.000000       0.700000     3.000000\n",
       "50%    1069.000000  2013.000000       0.700000     3.250000\n",
       "75%    1504.000000  2015.000000       0.750000     3.500000\n",
       "max    1952.000000  2017.000000      73.500000     5.000000"
      ]
     },
     "execution_count": 242,
     "metadata": {},
     "output_type": "execute_result"
    }
   ],
   "source": [
    "# Display summary statistics\n",
    "df_cacao.describe()"
   ]
  },
  {
   "cell_type": "code",
   "execution_count": 244,
   "id": "5c2ccd48-cf64-4deb-b47d-923fb82966ca",
   "metadata": {},
   "outputs": [
    {
     "data": {
      "text/html": [
       "<div>\n",
       "<style scoped>\n",
       "    .dataframe tbody tr th:only-of-type {\n",
       "        vertical-align: middle;\n",
       "    }\n",
       "\n",
       "    .dataframe tbody tr th {\n",
       "        vertical-align: top;\n",
       "    }\n",
       "\n",
       "    .dataframe thead th {\n",
       "        text-align: right;\n",
       "    }\n",
       "</style>\n",
       "<table border=\"1\" class=\"dataframe\">\n",
       "  <thead>\n",
       "    <tr style=\"text-align: right;\">\n",
       "      <th></th>\n",
       "      <th>Reference</th>\n",
       "      <th>Cocoa Percent</th>\n",
       "      <th>Rating</th>\n",
       "    </tr>\n",
       "  </thead>\n",
       "  <tbody>\n",
       "    <tr>\n",
       "      <th>count</th>\n",
       "      <td>1791.000000</td>\n",
       "      <td>1791.000000</td>\n",
       "      <td>1791.000000</td>\n",
       "    </tr>\n",
       "    <tr>\n",
       "      <th>mean</th>\n",
       "      <td>1035.787828</td>\n",
       "      <td>0.991854</td>\n",
       "      <td>3.186628</td>\n",
       "    </tr>\n",
       "    <tr>\n",
       "      <th>std</th>\n",
       "      <td>552.952598</td>\n",
       "      <td>4.399832</td>\n",
       "      <td>0.477310</td>\n",
       "    </tr>\n",
       "    <tr>\n",
       "      <th>min</th>\n",
       "      <td>5.000000</td>\n",
       "      <td>0.420000</td>\n",
       "      <td>1.000000</td>\n",
       "    </tr>\n",
       "    <tr>\n",
       "      <th>25%</th>\n",
       "      <td>576.000000</td>\n",
       "      <td>0.700000</td>\n",
       "      <td>3.000000</td>\n",
       "    </tr>\n",
       "    <tr>\n",
       "      <th>50%</th>\n",
       "      <td>1069.000000</td>\n",
       "      <td>0.700000</td>\n",
       "      <td>3.250000</td>\n",
       "    </tr>\n",
       "    <tr>\n",
       "      <th>75%</th>\n",
       "      <td>1504.000000</td>\n",
       "      <td>0.750000</td>\n",
       "      <td>3.500000</td>\n",
       "    </tr>\n",
       "    <tr>\n",
       "      <th>max</th>\n",
       "      <td>1952.000000</td>\n",
       "      <td>73.500000</td>\n",
       "      <td>5.000000</td>\n",
       "    </tr>\n",
       "  </tbody>\n",
       "</table>\n",
       "</div>"
      ],
      "text/plain": [
       "         Reference  Cocoa Percent       Rating\n",
       "count  1791.000000    1791.000000  1791.000000\n",
       "mean   1035.787828       0.991854     3.186628\n",
       "std     552.952598       4.399832     0.477310\n",
       "min       5.000000       0.420000     1.000000\n",
       "25%     576.000000       0.700000     3.000000\n",
       "50%    1069.000000       0.700000     3.250000\n",
       "75%    1504.000000       0.750000     3.500000\n",
       "max    1952.000000      73.500000     5.000000"
      ]
     },
     "execution_count": 244,
     "metadata": {},
     "output_type": "execute_result"
    }
   ],
   "source": [
    "# Display summary statistics excluding 'Review Date'\n",
    "df_cacao[['Reference', 'Cocoa Percent', 'Rating']].describe()\n"
   ]
  },
  {
   "cell_type": "code",
   "execution_count": 250,
   "id": "7f218115-f40a-4a5a-876c-7f6171477b03",
   "metadata": {},
   "outputs": [],
   "source": [
    "# Save the DataFrame to a CSV file\n",
    "df_cacao.to_csv(r'C:\\Users\\north\\10-2024 Exploring Chocolate Bar Quality\\02 Data\\Prepared Data\\cleaned_flavors_of_cacao.csv', index=False)\n"
   ]
  },
  {
   "cell_type": "code",
   "execution_count": null,
   "id": "d977d8ec-47e2-4df5-b1d9-4fb2ae87a33c",
   "metadata": {},
   "outputs": [],
   "source": []
  }
 ],
 "metadata": {
  "kernelspec": {
   "display_name": "Python 3 (ipykernel)",
   "language": "python",
   "name": "python3"
  },
  "language_info": {
   "codemirror_mode": {
    "name": "ipython",
    "version": 3
   },
   "file_extension": ".py",
   "mimetype": "text/x-python",
   "name": "python",
   "nbconvert_exporter": "python",
   "pygments_lexer": "ipython3",
   "version": "3.12.4"
  }
 },
 "nbformat": 4,
 "nbformat_minor": 5
}
