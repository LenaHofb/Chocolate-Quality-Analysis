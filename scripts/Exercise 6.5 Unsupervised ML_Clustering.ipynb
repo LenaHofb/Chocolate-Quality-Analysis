{
 "cells": [
  {
   "cell_type": "markdown",
   "id": "f80d5964-81ce-445c-95a6-9403624663a2",
   "metadata": {},
   "source": [
    "## 6.5 Machine Learning - Clustering"
   ]
  },
  {
   "cell_type": "markdown",
   "id": "e1844ea5-b3f2-4629-81b5-7e7a924a6196",
   "metadata": {},
   "source": [
    "### This script contains the following:\n",
    "\n",
    "#### 1. Import libraries and data\n",
    "#### 2. Data prep\n",
    "#### 3. The elbow technique\n",
    "#### 4. K-means clustering\n",
    "    4.1 Visualizations\n",
    "    4.2 Descriptive statistics and insights\n",
    "#### 5. Export data"
   ]
  },
  {
   "cell_type": "markdown",
   "id": "088849d2-1ae9-4439-9682-9126cb61a47e",
   "metadata": {},
   "source": [
    "#### 1. Import libraries and data"
   ]
  },
  {
   "cell_type": "code",
   "execution_count": 6,
   "id": "cbb7356f-f509-4cd6-b771-cc00ede11f53",
   "metadata": {},
   "outputs": [],
   "source": [
    "# Import libraries\n",
    "\n",
    "import pandas as pd\n",
    "import numpy as np\n",
    "import os\n",
    "import matplotlib\n",
    "import matplotlib.pyplot as plt\n",
    "import seaborn as sns\n",
    "import sklearn\n",
    "from sklearn.cluster import KMeans\n",
    "from sklearn.preprocessing import StandardScaler\n",
    "import pylab as pl"
   ]
  },
  {
   "cell_type": "code",
   "execution_count": 10,
   "id": "aefe2be9-d0b4-4bea-932a-47d5775aad7f",
   "metadata": {},
   "outputs": [],
   "source": [
    "# This option ensures the graphs you create are displayed in your notebook without the need to \"call\" them specifically.\n",
    "\n",
    "%matplotlib inline"
   ]
  },
  {
   "cell_type": "code",
   "execution_count": 12,
   "id": "c9c69f55-38ce-4e53-9347-4d87b535419f",
   "metadata": {},
   "outputs": [],
   "source": [
    "#Import Data\n",
    "path =r'C:\\Users\\north\\10-2024 Exploring Chocolate Bar Quality\\02 Data\\Prepared Data'\n",
    "df_cacao=pd.read_csv(os.path.join(path,'cleaned_cacao_data_with_mapped_regions.csv'))"
   ]
  },
  {
   "cell_type": "markdown",
   "id": "a2ba2a9f-7036-4bc6-98ad-1edcf459efa3",
   "metadata": {},
   "source": [
    "#### 2. Data prep"
   ]
  },
  {
   "cell_type": "code",
   "execution_count": 15,
   "id": "d526862c-0764-447e-9aaf-5f1e123d6248",
   "metadata": {},
   "outputs": [
    {
     "data": {
      "text/html": [
       "<div>\n",
       "<style scoped>\n",
       "    .dataframe tbody tr th:only-of-type {\n",
       "        vertical-align: middle;\n",
       "    }\n",
       "\n",
       "    .dataframe tbody tr th {\n",
       "        vertical-align: top;\n",
       "    }\n",
       "\n",
       "    .dataframe thead th {\n",
       "        text-align: right;\n",
       "    }\n",
       "</style>\n",
       "<table border=\"1\" class=\"dataframe\">\n",
       "  <thead>\n",
       "    <tr style=\"text-align: right;\">\n",
       "      <th></th>\n",
       "      <th>Company</th>\n",
       "      <th>Bean Origin</th>\n",
       "      <th>Reference</th>\n",
       "      <th>Review Date</th>\n",
       "      <th>Cocoa Percent</th>\n",
       "      <th>Company Location</th>\n",
       "      <th>Rating</th>\n",
       "      <th>Bean Type</th>\n",
       "      <th>Broad Bean Origin</th>\n",
       "      <th>Region_Final</th>\n",
       "    </tr>\n",
       "  </thead>\n",
       "  <tbody>\n",
       "    <tr>\n",
       "      <th>0</th>\n",
       "      <td>A. Morin</td>\n",
       "      <td>Agua Grande</td>\n",
       "      <td>1876.0</td>\n",
       "      <td>2016</td>\n",
       "      <td>0.63</td>\n",
       "      <td>France</td>\n",
       "      <td>3.75</td>\n",
       "      <td>Unknown</td>\n",
       "      <td>São Tomé and Principe</td>\n",
       "      <td>São Tomé and Principe</td>\n",
       "    </tr>\n",
       "    <tr>\n",
       "      <th>1</th>\n",
       "      <td>A. Morin</td>\n",
       "      <td>Kpime</td>\n",
       "      <td>1676.0</td>\n",
       "      <td>2015</td>\n",
       "      <td>0.70</td>\n",
       "      <td>France</td>\n",
       "      <td>2.75</td>\n",
       "      <td>Unknown</td>\n",
       "      <td>Togo</td>\n",
       "      <td>Togo</td>\n",
       "    </tr>\n",
       "    <tr>\n",
       "      <th>2</th>\n",
       "      <td>A. Morin</td>\n",
       "      <td>Atsane</td>\n",
       "      <td>1676.0</td>\n",
       "      <td>2015</td>\n",
       "      <td>0.70</td>\n",
       "      <td>France</td>\n",
       "      <td>3.00</td>\n",
       "      <td>Unknown</td>\n",
       "      <td>Togo</td>\n",
       "      <td>Togo</td>\n",
       "    </tr>\n",
       "    <tr>\n",
       "      <th>3</th>\n",
       "      <td>A. Morin</td>\n",
       "      <td>Akata</td>\n",
       "      <td>1680.0</td>\n",
       "      <td>2015</td>\n",
       "      <td>0.70</td>\n",
       "      <td>France</td>\n",
       "      <td>3.50</td>\n",
       "      <td>Unknown</td>\n",
       "      <td>Togo</td>\n",
       "      <td>Togo</td>\n",
       "    </tr>\n",
       "    <tr>\n",
       "      <th>4</th>\n",
       "      <td>A. Morin</td>\n",
       "      <td>Quilla</td>\n",
       "      <td>1704.0</td>\n",
       "      <td>2015</td>\n",
       "      <td>0.70</td>\n",
       "      <td>France</td>\n",
       "      <td>3.50</td>\n",
       "      <td>Unknown</td>\n",
       "      <td>Peru</td>\n",
       "      <td>Peru</td>\n",
       "    </tr>\n",
       "  </tbody>\n",
       "</table>\n",
       "</div>"
      ],
      "text/plain": [
       "    Company  Bean Origin  Reference  Review Date  Cocoa Percent  \\\n",
       "0  A. Morin  Agua Grande     1876.0         2016           0.63   \n",
       "1  A. Morin        Kpime     1676.0         2015           0.70   \n",
       "2  A. Morin       Atsane     1676.0         2015           0.70   \n",
       "3  A. Morin        Akata     1680.0         2015           0.70   \n",
       "4  A. Morin       Quilla     1704.0         2015           0.70   \n",
       "\n",
       "  Company Location  Rating Bean Type      Broad Bean Origin  \\\n",
       "0           France    3.75   Unknown  São Tomé and Principe   \n",
       "1           France    2.75   Unknown                   Togo   \n",
       "2           France    3.00   Unknown                   Togo   \n",
       "3           France    3.50   Unknown                   Togo   \n",
       "4           France    3.50   Unknown                   Peru   \n",
       "\n",
       "            Region_Final  \n",
       "0  São Tomé and Principe  \n",
       "1                   Togo  \n",
       "2                   Togo  \n",
       "3                   Togo  \n",
       "4                   Peru  "
      ]
     },
     "execution_count": 15,
     "metadata": {},
     "output_type": "execute_result"
    }
   ],
   "source": [
    "df_cacao.head()"
   ]
  },
  {
   "cell_type": "code",
   "execution_count": 31,
   "id": "1c29f256-e6c9-4760-ae93-c96f1910c6dd",
   "metadata": {},
   "outputs": [],
   "source": [
    "#Select and prepare numerical data\n",
    "numerical_columns = ['Review Date', 'Cocoa Percent', 'Rating']\n",
    "data_numerical = df_cacao[numerical_columns]"
   ]
  },
  {
   "cell_type": "code",
   "execution_count": 33,
   "id": "34a80978-dbfe-448a-a010-5dedfae74a98",
   "metadata": {},
   "outputs": [
    {
     "data": {
      "text/html": [
       "<div>\n",
       "<style scoped>\n",
       "    .dataframe tbody tr th:only-of-type {\n",
       "        vertical-align: middle;\n",
       "    }\n",
       "\n",
       "    .dataframe tbody tr th {\n",
       "        vertical-align: top;\n",
       "    }\n",
       "\n",
       "    .dataframe thead th {\n",
       "        text-align: right;\n",
       "    }\n",
       "</style>\n",
       "<table border=\"1\" class=\"dataframe\">\n",
       "  <thead>\n",
       "    <tr style=\"text-align: right;\">\n",
       "      <th></th>\n",
       "      <th>Review Date</th>\n",
       "      <th>Cocoa Percent</th>\n",
       "      <th>Rating</th>\n",
       "    </tr>\n",
       "  </thead>\n",
       "  <tbody>\n",
       "    <tr>\n",
       "      <th>0</th>\n",
       "      <td>2016</td>\n",
       "      <td>0.63</td>\n",
       "      <td>3.75</td>\n",
       "    </tr>\n",
       "    <tr>\n",
       "      <th>1</th>\n",
       "      <td>2015</td>\n",
       "      <td>0.70</td>\n",
       "      <td>2.75</td>\n",
       "    </tr>\n",
       "    <tr>\n",
       "      <th>2</th>\n",
       "      <td>2015</td>\n",
       "      <td>0.70</td>\n",
       "      <td>3.00</td>\n",
       "    </tr>\n",
       "    <tr>\n",
       "      <th>3</th>\n",
       "      <td>2015</td>\n",
       "      <td>0.70</td>\n",
       "      <td>3.50</td>\n",
       "    </tr>\n",
       "    <tr>\n",
       "      <th>4</th>\n",
       "      <td>2015</td>\n",
       "      <td>0.70</td>\n",
       "      <td>3.50</td>\n",
       "    </tr>\n",
       "    <tr>\n",
       "      <th>...</th>\n",
       "      <td>...</td>\n",
       "      <td>...</td>\n",
       "      <td>...</td>\n",
       "    </tr>\n",
       "    <tr>\n",
       "      <th>1786</th>\n",
       "      <td>2011</td>\n",
       "      <td>0.70</td>\n",
       "      <td>3.75</td>\n",
       "    </tr>\n",
       "    <tr>\n",
       "      <th>1787</th>\n",
       "      <td>2011</td>\n",
       "      <td>0.65</td>\n",
       "      <td>3.00</td>\n",
       "    </tr>\n",
       "    <tr>\n",
       "      <th>1788</th>\n",
       "      <td>2011</td>\n",
       "      <td>0.65</td>\n",
       "      <td>3.50</td>\n",
       "    </tr>\n",
       "    <tr>\n",
       "      <th>1789</th>\n",
       "      <td>2011</td>\n",
       "      <td>0.62</td>\n",
       "      <td>3.25</td>\n",
       "    </tr>\n",
       "    <tr>\n",
       "      <th>1790</th>\n",
       "      <td>2010</td>\n",
       "      <td>0.65</td>\n",
       "      <td>3.00</td>\n",
       "    </tr>\n",
       "  </tbody>\n",
       "</table>\n",
       "<p>1791 rows × 3 columns</p>\n",
       "</div>"
      ],
      "text/plain": [
       "      Review Date  Cocoa Percent  Rating\n",
       "0            2016           0.63    3.75\n",
       "1            2015           0.70    2.75\n",
       "2            2015           0.70    3.00\n",
       "3            2015           0.70    3.50\n",
       "4            2015           0.70    3.50\n",
       "...           ...            ...     ...\n",
       "1786         2011           0.70    3.75\n",
       "1787         2011           0.65    3.00\n",
       "1788         2011           0.65    3.50\n",
       "1789         2011           0.62    3.25\n",
       "1790         2010           0.65    3.00\n",
       "\n",
       "[1791 rows x 3 columns]"
      ]
     },
     "execution_count": 33,
     "metadata": {},
     "output_type": "execute_result"
    }
   ],
   "source": [
    "data_numerical"
   ]
  },
  {
   "cell_type": "markdown",
   "id": "837baa66-4c8e-4eca-94fb-dcaa7b856a84",
   "metadata": {},
   "source": [
    "**Note:** Reference column is excluded as it works  just an identifier (ID) and doesn't carry any meaningful numerical value for clustering."
   ]
  },
  {
   "cell_type": "code",
   "execution_count": 37,
   "id": "c98c6284-168d-4f6f-9eb3-f078e524b213",
   "metadata": {},
   "outputs": [],
   "source": [
    "#Standardize the numerical data\n",
    "scaler = StandardScaler()\n",
    "data_scaled = scaler.fit_transform(data_numerical)"
   ]
  },
  {
   "cell_type": "code",
   "execution_count": 39,
   "id": "bb2e9a83-48d9-49bd-8643-c67d4e8cb19d",
   "metadata": {},
   "outputs": [
    {
     "data": {
      "text/plain": [
       "array([[ 1.255738  , -0.08226559,  1.1806357 ],\n",
       "       [ 0.91399256, -0.06635145, -0.91502192],\n",
       "       [ 0.91399256, -0.06635145, -0.39110752],\n",
       "       ...,\n",
       "       [-0.45298921, -0.07771869,  0.6567213 ],\n",
       "       [-0.45298921, -0.08453904,  0.13280689],\n",
       "       [-0.79473466, -0.07771869, -0.39110752]])"
      ]
     },
     "execution_count": 39,
     "metadata": {},
     "output_type": "execute_result"
    }
   ],
   "source": [
    "data_scaled"
   ]
  },
  {
   "cell_type": "code",
   "execution_count": 41,
   "id": "cfc57513-9203-4cb6-b18e-9e98a1049e02",
   "metadata": {},
   "outputs": [],
   "source": [
    "# Convert the standardized data back to a DataFrame for easier manipulation\n",
    "data_scaled_df = pd.DataFrame(data_scaled, columns=numerical_columns)"
   ]
  },
  {
   "cell_type": "markdown",
   "id": "0c694090-8ca3-4b0f-ae71-0d1b1dba3a0f",
   "metadata": {},
   "source": [
    "#### 3. The elbow technique"
   ]
  },
  {
   "cell_type": "code",
   "execution_count": 50,
   "id": "690a6059-131b-4d65-abd3-e5f853083be7",
   "metadata": {},
   "outputs": [],
   "source": [
    "# Use Elbow Method to determine optimal k\n",
    "inertia = []\n",
    "k_values = range(1, 11)\n",
    "\n",
    "for k in k_values:\n",
    "    kmeans = KMeans(n_clusters=k, random_state=42)\n",
    "    kmeans.fit(data_scaled_df)\n",
    "    inertia.append(kmeans.inertia_)"
   ]
  },
  {
   "cell_type": "code",
   "execution_count": 52,
   "id": "7d7b6e88-c830-48c9-bda6-4ecd5104428c",
   "metadata": {},
   "outputs": [
    {
     "data": {
      "image/png": "[encoded data removed]",
      "text/plain": [
       "<Figure size 800x500 with 1 Axes>"
      ]
     },
     "metadata": {},
     "output_type": "display_data"
    }
   ],
   "source": [
    "# Plot the elbow curve\n",
    "plt.figure(figsize=(8, 5))\n",
    "plt.plot(k_values, inertia, marker='o')\n",
    "plt.title('Elbow Method For Optimal k')\n",
    "plt.xlabel('Number of Clusters (k)')\n",
    "plt.ylabel('Inertia (Sum of Squared Distances)')\n",
    "plt.show()"
   ]
  },
  {
   "cell_type": "markdown",
   "id": "08066cd0-a110-428b-b0a5-bcb0868f55f7",
   "metadata": {},
   "source": [
    "The curve begins to flatten around 3 clusters. After 3, the reduction in inertia becomes less significant, indicating that adding more clusters would not significantly improve the model’s fit. The ideal number of clusters for this dataset is 3."
   ]
  },
  {
   "cell_type": "markdown",
   "id": "a4914a77-b063-41bb-960b-16a5615a421b",
   "metadata": {},
   "source": [
    "#### 4. K-means clustering"
   ]
  },
  {
   "cell_type": "code",
   "execution_count": 56,
   "id": "51b87e2d-2f58-4b56-8117-ac375ab8ff04",
   "metadata": {},
   "outputs": [],
   "source": [
    "# Apply K-Means clustering with k=3\n",
    "kmeans = KMeans(n_clusters=3, random_state=42)\n",
    "clusters = kmeans.fit_predict(data_scaled_df)"
   ]
  },
  {
   "cell_type": "code",
   "execution_count": 72,
   "id": "56afaf5b-aa1b-4223-ac7f-402a1e95da24",
   "metadata": {},
   "outputs": [],
   "source": [
    "# Add the cluster labels to the original dataset\n",
    "df_cacao['Cluster'] = clusters"
   ]
  },
  {
   "cell_type": "code",
   "execution_count": 70,
   "id": "54cccea7-3a36-41ae-ad13-a3a12189aea7",
   "metadata": {},
   "outputs": [
    {
     "data": {
      "text/html": [
       "<div>\n",
       "<style scoped>\n",
       "    .dataframe tbody tr th:only-of-type {\n",
       "        vertical-align: middle;\n",
       "    }\n",
       "\n",
       "    .dataframe tbody tr th {\n",
       "        vertical-align: top;\n",
       "    }\n",
       "\n",
       "    .dataframe thead th {\n",
       "        text-align: right;\n",
       "    }\n",
       "</style>\n",
       "<table border=\"1\" class=\"dataframe\">\n",
       "  <thead>\n",
       "    <tr style=\"text-align: right;\">\n",
       "      <th></th>\n",
       "      <th>Company</th>\n",
       "      <th>Bean Origin</th>\n",
       "      <th>Reference</th>\n",
       "      <th>Review Date</th>\n",
       "      <th>Cocoa Percent</th>\n",
       "      <th>Company Location</th>\n",
       "      <th>Rating</th>\n",
       "      <th>Bean Type</th>\n",
       "      <th>Broad Bean Origin</th>\n",
       "      <th>Region_Final</th>\n",
       "      <th>Cluster</th>\n",
       "    </tr>\n",
       "  </thead>\n",
       "  <tbody>\n",
       "    <tr>\n",
       "      <th>0</th>\n",
       "      <td>A. Morin</td>\n",
       "      <td>Agua Grande</td>\n",
       "      <td>1876.0</td>\n",
       "      <td>2016</td>\n",
       "      <td>0.63</td>\n",
       "      <td>France</td>\n",
       "      <td>3.75</td>\n",
       "      <td>Unknown</td>\n",
       "      <td>São Tomé and Principe</td>\n",
       "      <td>São Tomé and Principe</td>\n",
       "      <td>0</td>\n",
       "    </tr>\n",
       "    <tr>\n",
       "      <th>1</th>\n",
       "      <td>A. Morin</td>\n",
       "      <td>Kpime</td>\n",
       "      <td>1676.0</td>\n",
       "      <td>2015</td>\n",
       "      <td>0.70</td>\n",
       "      <td>France</td>\n",
       "      <td>2.75</td>\n",
       "      <td>Unknown</td>\n",
       "      <td>Togo</td>\n",
       "      <td>Togo</td>\n",
       "      <td>0</td>\n",
       "    </tr>\n",
       "    <tr>\n",
       "      <th>2</th>\n",
       "      <td>A. Morin</td>\n",
       "      <td>Atsane</td>\n",
       "      <td>1676.0</td>\n",
       "      <td>2015</td>\n",
       "      <td>0.70</td>\n",
       "      <td>France</td>\n",
       "      <td>3.00</td>\n",
       "      <td>Unknown</td>\n",
       "      <td>Togo</td>\n",
       "      <td>Togo</td>\n",
       "      <td>0</td>\n",
       "    </tr>\n",
       "    <tr>\n",
       "      <th>3</th>\n",
       "      <td>A. Morin</td>\n",
       "      <td>Akata</td>\n",
       "      <td>1680.0</td>\n",
       "      <td>2015</td>\n",
       "      <td>0.70</td>\n",
       "      <td>France</td>\n",
       "      <td>3.50</td>\n",
       "      <td>Unknown</td>\n",
       "      <td>Togo</td>\n",
       "      <td>Togo</td>\n",
       "      <td>0</td>\n",
       "    </tr>\n",
       "    <tr>\n",
       "      <th>4</th>\n",
       "      <td>A. Morin</td>\n",
       "      <td>Quilla</td>\n",
       "      <td>1704.0</td>\n",
       "      <td>2015</td>\n",
       "      <td>0.70</td>\n",
       "      <td>France</td>\n",
       "      <td>3.50</td>\n",
       "      <td>Unknown</td>\n",
       "      <td>Peru</td>\n",
       "      <td>Peru</td>\n",
       "      <td>0</td>\n",
       "    </tr>\n",
       "  </tbody>\n",
       "</table>\n",
       "</div>"
      ],
      "text/plain": [
       "    Company  Bean Origin  Reference  Review Date  Cocoa Percent  \\\n",
       "0  A. Morin  Agua Grande     1876.0         2016           0.63   \n",
       "1  A. Morin        Kpime     1676.0         2015           0.70   \n",
       "2  A. Morin       Atsane     1676.0         2015           0.70   \n",
       "3  A. Morin        Akata     1680.0         2015           0.70   \n",
       "4  A. Morin       Quilla     1704.0         2015           0.70   \n",
       "\n",
       "  Company Location  Rating Bean Type      Broad Bean Origin  \\\n",
       "0           France    3.75   Unknown  São Tomé and Principe   \n",
       "1           France    2.75   Unknown                   Togo   \n",
       "2           France    3.00   Unknown                   Togo   \n",
       "3           France    3.50   Unknown                   Togo   \n",
       "4           France    3.50   Unknown                   Peru   \n",
       "\n",
       "            Region_Final  Cluster  \n",
       "0  São Tomé and Principe        0  \n",
       "1                   Togo        0  \n",
       "2                   Togo        0  \n",
       "3                   Togo        0  \n",
       "4                   Peru        0  "
      ]
     },
     "execution_count": 70,
     "metadata": {},
     "output_type": "execute_result"
    }
   ],
   "source": [
    "df_cacao.head()"
   ]
  },
  {
   "cell_type": "code",
   "execution_count": 76,
   "id": "5685aa22-f11e-49fc-90bd-d6f9c449e9a5",
   "metadata": {},
   "outputs": [
    {
     "data": {
      "text/plain": [
       "Cluster\n",
       "0    1128\n",
       "2     656\n",
       "1       7\n",
       "Name: count, dtype: int64"
      ]
     },
     "execution_count": 76,
     "metadata": {},
     "output_type": "execute_result"
    }
   ],
   "source": [
    "df_cacao['Cluster'].value_counts()"
   ]
  },
  {
   "cell_type": "markdown",
   "id": "a22cdc16-1b13-4e93-9fc0-8d53dc3d5f46",
   "metadata": {},
   "source": [
    "##### 4.1 Visualizations"
   ]
  },
  {
   "cell_type": "code",
   "execution_count": 103,
   "id": "059abfbf-1ad1-4ffa-bb59-c77fd7f07422",
   "metadata": {},
   "outputs": [
    {
     "data": {
      "image/png": "[encoded data removed]",
      "text/plain": [
       "<Figure size 800x500 with 1 Axes>"
      ]
     },
     "metadata": {},
     "output_type": "display_data"
    }
   ],
   "source": [
    "# Visualize the clusters with scatterplots and include a legend for clusters\n",
    "plt.figure(figsize=(8, 5))\n",
    "scatter = plt.scatter(df_cacao['Cocoa Percent'], df_cacao['Rating'], c=clusters, cmap='viridis')\n",
    "\n",
    "# Add title and labels\n",
    "plt.title('Cocoa Percent vs Rating Clustered')\n",
    "plt.xlabel('Cocoa Percent')\n",
    "plt.ylabel('Rating')\n",
    "\n",
    "# Create a legend with cluster numbers\n",
    "legend1 = plt.legend(*scatter.legend_elements(), title=\"Clusters\", loc=\"upper right\")\n",
    "plt.gca().add_artist(legend1)\n",
    "\n",
    "plt.show()"
   ]
  },
  {
   "cell_type": "markdown",
   "id": "7f044b81-7d16-4db1-a4fc-85e4188884d1",
   "metadata": {},
   "source": [
    "**Cocoa Percent vs Rating Clustered**\n",
    "\n",
    "- Low Cocoa Percent (0%) dominates: Most of the products in the dataset have very low cocoa percentages (Cluster 0 and Cluster 2). The separation between the purple and yellow clusters seems to be based on their ratings—with purple getting higher ratings on average and yellow getting lower ratings.\n",
    "- High Cocoa Percent (60-70%) is rare: The few green points (Cluster 1) with high cocoa content are outliers in the dataset, and they receive mid-to-high ratings. This suggests that there are fewer high-cocoa products overall, but they tend to be well-regarded."
   ]
  },
  {
   "cell_type": "code",
   "execution_count": 96,
   "id": "7df72150-1962-466e-9d85-b73ba14e1ee1",
   "metadata": {},
   "outputs": [
    {
     "data": {
      "text/plain": [
       "<Figure size 800x500 with 0 Axes>"
      ]
     },
     "metadata": {},
     "output_type": "display_data"
    },
    {
     "data": {
      "text/plain": [
       "<Figure size 800x500 with 0 Axes>"
      ]
     },
     "metadata": {},
     "output_type": "display_data"
    },
    {
     "data": {
      "text/plain": [
       "<Figure size 800x500 with 0 Axes>"
      ]
     },
     "metadata": {},
     "output_type": "display_data"
    },
    {
     "data": {
      "image/png": "[encoded data removed]",
      "text/plain": [
       "<Figure size 800x500 with 1 Axes>"
      ]
     },
     "metadata": {},
     "output_type": "display_data"
    }
   ],
   "source": [
    "# Visualize clusters using the original Review Date (non-standardized) and Rating\n",
    "plt.figure(figsize=(8, 5))\n",
    "scatter = plt.scatter(df_cacao['Review Date'], df_cacao['Rating'], c=df_cacao['Cluster'], cmap='viridis')\n",
    "\n",
    "# Add title and labels\n",
    "plt.title('Review Date vs Rating Clustered')\n",
    "plt.xlabel('Review Date')\n",
    "plt.ylabel('Rating')\n",
    "\n",
    "# Create a legend with cluster numbers\n",
    "legend1 = plt.legend(*scatter.legend_elements(), title=\"Clusters\", loc=\"upper right\")\n",
    "plt.gca().add_artist(legend1)\n",
    "\n",
    "plt.show()\n"
   ]
  },
  {
   "cell_type": "markdown",
   "id": "d2df6686-4b0c-4f33-98bc-a924a715b1c3",
   "metadata": {},
   "source": [
    "**Review Date vs Rating Clustered**\n",
    "\n",
    "- There’s a clear pattern over time. The older reviews (from 2006–2010) tend to fall into one cluster (yellow), while more recent reviews (2012–2016) mostly fall into another (purple), with some overlap in the middle.\n",
    "  \n",
    "- This suggests that product ratings have changed over time. Newer reviews seem to be in a different cluster than older ones, which could reflect changing consumer preferences, evolving product quality, or market trends.\n",
    "\n",
    "- It looks like the clusters reflect a time-based trend, showing that reviews from different periods tend to group together. This could be useful for understanding how product perceptions have shifted over time."
   ]
  },
  {
   "cell_type": "code",
   "execution_count": 116,
   "id": "aad8cf96-75ff-47c8-accc-c04d4d545f52",
   "metadata": {},
   "outputs": [],
   "source": [
    "# Rename clusters to more descriptive labels (optional)\n",
    "df_cacao.loc[df_cacao['Cluster'] == 2, 'Cluster'] = 'Yellow'\n",
    "df_cacao.loc[df_cacao['Cluster'] == 1, 'Cluster'] = 'Green'\n",
    "df_cacao.loc[df_cacao['Cluster'] == 0, 'Cluster'] = 'Purple'\n",
    "\n",
    "# Calculate descriptive statistics for each cluster\n",
    "cluster_stats = df_cacao.groupby('Cluster').agg({\n",
    "    'Review Date': ['mean', 'median'], \n",
    "    'Cocoa Percent': ['mean', 'median'], \n",
    "    'Rating': ['mean', 'median']\n",
    "})\n"
   ]
  },
  {
   "cell_type": "code",
   "execution_count": 118,
   "id": "a4d17e5a-b162-4d95-8042-e257297fedac",
   "metadata": {},
   "outputs": [
    {
     "data": {
      "text/html": [
       "<div>\n",
       "<style scoped>\n",
       "    .dataframe tbody tr th:only-of-type {\n",
       "        vertical-align: middle;\n",
       "    }\n",
       "\n",
       "    .dataframe tbody tr th {\n",
       "        vertical-align: top;\n",
       "    }\n",
       "\n",
       "    .dataframe thead tr th {\n",
       "        text-align: left;\n",
       "    }\n",
       "\n",
       "    .dataframe thead tr:last-of-type th {\n",
       "        text-align: right;\n",
       "    }\n",
       "</style>\n",
       "<table border=\"1\" class=\"dataframe\">\n",
       "  <thead>\n",
       "    <tr>\n",
       "      <th></th>\n",
       "      <th colspan=\"2\" halign=\"left\">Review Date</th>\n",
       "      <th colspan=\"2\" halign=\"left\">Cocoa Percent</th>\n",
       "      <th colspan=\"2\" halign=\"left\">Rating</th>\n",
       "    </tr>\n",
       "    <tr>\n",
       "      <th></th>\n",
       "      <th>mean</th>\n",
       "      <th>median</th>\n",
       "      <th>mean</th>\n",
       "      <th>median</th>\n",
       "      <th>mean</th>\n",
       "      <th>median</th>\n",
       "    </tr>\n",
       "    <tr>\n",
       "      <th>Cluster</th>\n",
       "      <th></th>\n",
       "      <th></th>\n",
       "      <th></th>\n",
       "      <th></th>\n",
       "      <th></th>\n",
       "      <th></th>\n",
       "    </tr>\n",
       "  </thead>\n",
       "  <tbody>\n",
       "    <tr>\n",
       "      <th>Green</th>\n",
       "      <td>2012.714286</td>\n",
       "      <td>2014.0</td>\n",
       "      <td>71.071429</td>\n",
       "      <td>72.5</td>\n",
       "      <td>2.857143</td>\n",
       "      <td>2.75</td>\n",
       "    </tr>\n",
       "    <tr>\n",
       "      <th>Purple</th>\n",
       "      <td>2014.190603</td>\n",
       "      <td>2014.0</td>\n",
       "      <td>0.718005</td>\n",
       "      <td>0.7</td>\n",
       "      <td>3.270612</td>\n",
       "      <td>3.25</td>\n",
       "    </tr>\n",
       "    <tr>\n",
       "      <th>Yellow</th>\n",
       "      <td>2009.114329</td>\n",
       "      <td>2009.0</td>\n",
       "      <td>0.714939</td>\n",
       "      <td>0.7</td>\n",
       "      <td>3.045732</td>\n",
       "      <td>3.00</td>\n",
       "    </tr>\n",
       "  </tbody>\n",
       "</table>\n",
       "</div>"
      ],
      "text/plain": [
       "         Review Date         Cocoa Percent           Rating       \n",
       "                mean  median          mean median      mean median\n",
       "Cluster                                                           \n",
       "Green    2012.714286  2014.0     71.071429   72.5  2.857143   2.75\n",
       "Purple   2014.190603  2014.0      0.718005    0.7  3.270612   3.25\n",
       "Yellow   2009.114329  2009.0      0.714939    0.7  3.045732   3.00"
      ]
     },
     "execution_count": 118,
     "metadata": {},
     "output_type": "execute_result"
    }
   ],
   "source": [
    "cluster_stats"
   ]
  },
  {
   "cell_type": "markdown",
   "id": "6834b5b5-92a5-40fd-b5f8-50a7bc9c32cf",
   "metadata": {},
   "source": [
    "#### 4.2 Descriptive statistics and insights\n",
    "\n",
    "#### **Green Cluster**:\n",
    "- **Review Date**: These products are the most recently reviewed, with an average review year of **2012.7** and a median of **2014**. This indicates that the products in this cluster are relatively new compared to the others.\n",
    "- **Cocoa Percent**: The green cluster includes products with the highest cocoa content, averaging **71.07%** and a median of **72.5%**. This suggests these are dark chocolates with higher cocoa content, generally appreciated by a niche audience.\n",
    "- **Rating**: These products have the lowest average rating, around **2.86**, with a median rating of **2.75**. Despite their higher cocoa content, they receive lower ratings, possibly due to the strong taste that may not appeal to a broad consumer base.\n",
    "\n",
    "**Insight**: The **green cluster** likely represents high-cocoa products (dark chocolates), which are more recent but not highly rated, possibly due to the intense flavor profile that might not be as widely appreciated.\n",
    "\n",
    "---\n",
    "\n",
    "#### **Purple Cluster**:\n",
    "- **Review Date**: The average review year is **2014.2**, and the median is **2014**. These are also relatively recent products but not quite as new as those in the green cluster.\n",
    "- **Cocoa Percent**: These products have an average cocoa percentage of **71.8%**, and a median of **70%**, similar to the green cluster. However, these products are more varied and could still represent darker chocolates.\n",
    "- **Rating**: This cluster has a higher average rating of **3.27** and a median rating of **3.25**, indicating that these products are better received than those in the green cluster.\n",
    "\n",
    "**Insight**: The **purple cluster** represents higher-rated products with moderately high cocoa content. These products are fairly recent and more favorably received, indicating that they strike a better balance in flavor or quality, appealing to a broader audience.\n",
    "\n",
    "---\n",
    "\n",
    "#### **Yellow Cluster**:\n",
    "- **Review Date**: These products have the oldest review dates, with an average of **2009.1** and a median of **2009**. This suggests that the products in this cluster have been on the market longer or were reviewed earlier.\n",
    "- **Cocoa Percent**: The average cocoa percentage is **71.5%**, with a median of **70%**, similar to the purple cluster. This indicates that these products also tend to have higher cocoa content.\n",
    "- **Rating**: These products have a slightly lower average rating of **3.05**, with a median of **3.0**, indicating that while these products aren't rated poorly, they aren't as highly rated as the purple cluster.\n",
    "\n",
    "**Insight**: The **yellow cluster** represents older products that have been around for a while, with moderately high cocoa content and mid-range ratings. These products might be more established but do not stand out in terms of consumer reception.\n",
    "\n",
    "---\n",
    "\n",
    "### Overall Insights:\n",
    "- The **green cluster** includes high-cocoa, newer products with lower ratings, possibly due to their intense flavor.\n",
    "- The **purple cluster** contains more balanced, highly rated products with high cocoa content, appealing to a broader audience.\n",
    "- The **yellow cluster** represents older products with mid-range ratings and a consistent level of cocoa content.\n",
    "\n",
    "These clusters provide insight into how review date, cocoa content, and consumer ratings interact. However, further exploration of other features like **company**, **company location**, **region** could offer more depth into what drives the higher ratings in the purple cluster compared to the others.\n"
   ]
  },
  {
   "cell_type": "markdown",
   "id": "1513e917-061f-4646-ab91-63f15cac1fc9",
   "metadata": {},
   "source": [
    "#### Possible future steps:\n",
    "\n",
    "- Green Cluster (High Cocoa, Lower Ratings): Focus on how Cocoa Percent and Region influence the lower ratings. Investigate whether certain regions are producing high-cocoa products that aren’t as well received and if adjustments can be made.\n",
    "\n",
    "- Purple Cluster (Moderate Cocoa, Higher Ratings): Explore how Company Location and Region affect the higher ratings. This can help identify regions or companies producing well-regarded products and guide future product development.\n",
    "\n",
    "- Yellow Cluster (Older Products, Mid-Range Ratings): Analyze how Region and Review Date impact ratings in this cluster. Investigate if products from certain regions are aging poorly or need improvements to boost customer satisfaction."
   ]
  },
  {
   "cell_type": "markdown",
   "id": "e9e9dabb-8a04-4b31-bbd4-f78bb4bb9459",
   "metadata": {},
   "source": [
    "#### 5. Export data"
   ]
  },
  {
   "cell_type": "code",
   "execution_count": 133,
   "id": "b18a7acb-ef7a-4152-b685-e2fdc1ad686a",
   "metadata": {},
   "outputs": [],
   "source": [
    "df_cacao.to_csv(os.path.join(path, 'cleaned_cacao_data_mapped_clustered.csv'))"
   ]
  },
  {
   "cell_type": "code",
   "execution_count": null,
   "id": "ea0bb410-7592-4d6c-82cf-574c88f134a3",
   "metadata": {},
   "outputs": [],
   "source": []
  }
 ],
 "metadata": {
  "kernelspec": {
   "display_name": "Python 3 (ipykernel)",
   "language": "python",
   "name": "python3"
  },
  "language_info": {
   "codemirror_mode": {
    "name": "ipython",
    "version": 3
   },
   "file_extension": ".py",
   "mimetype": "text/x-python",
   "name": "python",
   "nbconvert_exporter": "python",
   "pygments_lexer": "ipython3",
   "version": "3.12.4"
  }
 },
 "nbformat": 4,
 "nbformat_minor": 5
}
