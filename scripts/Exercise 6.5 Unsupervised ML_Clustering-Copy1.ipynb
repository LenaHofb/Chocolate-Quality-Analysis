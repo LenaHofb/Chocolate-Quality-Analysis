{
 "cells": [
  {
   "cell_type": "markdown",
   "id": "f80d5964-81ce-445c-95a6-9403624663a2",
   "metadata": {},
   "source": [
    "## 6.5 Machine Learning - Clustering"
   ]
  },
  {
   "cell_type": "markdown",
   "id": "e1844ea5-b3f2-4629-81b5-7e7a924a6196",
   "metadata": {},
   "source": [
    "### This script contains the following:\n",
    "\n",
    "#### 1. Import libraries and data\n",
    "#### 2. Data prep\n",
    "#### 3. The elbow technique\n",
    "#### 4. K-means clustering\n",
    "    4.1 Visualizations\n",
    "    4.2 Descriptive statistics and insights\n",
    "#### 5. Export data"
   ]
  },
  {
   "cell_type": "markdown",
   "id": "088849d2-1ae9-4439-9682-9126cb61a47e",
   "metadata": {},
   "source": [
    "#### 1. Import libraries and data"
   ]
  },
  {
   "cell_type": "code",
   "execution_count": 51,
   "id": "cbb7356f-f509-4cd6-b771-cc00ede11f53",
   "metadata": {},
   "outputs": [],
   "source": [
    "# Import libraries\n",
    "\n",
    "import pandas as pd\n",
    "import numpy as np\n",
    "import os\n",
    "import matplotlib\n",
    "import matplotlib.pyplot as plt\n",
    "import seaborn as sns\n",
    "import sklearn\n",
    "from sklearn.cluster import KMeans\n",
    "from sklearn.preprocessing import StandardScaler\n",
    "import pylab as pl"
   ]
  },
  {
   "cell_type": "code",
   "execution_count": 52,
   "id": "aefe2be9-d0b4-4bea-932a-47d5775aad7f",
   "metadata": {},
   "outputs": [],
   "source": [
    "# This option ensures the graphs you create are displayed in your notebook without the need to \"call\" them specifically.\n",
    "\n",
    "%matplotlib inline"
   ]
  },
  {
   "cell_type": "code",
   "execution_count": 53,
   "id": "c9c69f55-38ce-4e53-9347-4d87b535419f",
   "metadata": {},
   "outputs": [],
   "source": [
    "#Import Data\n",
    "\n",
    "# Define the path to your directory and file name\n",
    "path = r'C:\\Users\\north\\10-2024 Exploring Chocolate Bar Quality\\02 Data\\Prepared Data'\n",
    "file_name = 'cleaned_cacao_data_mapped_clustered_decimal.xlsx'\n",
    "\n",
    "# Read the Excel file\n",
    "df_cacao = pd.read_excel(os.path.join(path, file_name))"
   ]
  },
  {
   "cell_type": "markdown",
   "id": "a2ba2a9f-7036-4bc6-98ad-1edcf459efa3",
   "metadata": {},
   "source": [
    "#### 2. Data prep"
   ]
  },
  {
   "cell_type": "code",
   "execution_count": 55,
   "id": "d526862c-0764-447e-9aaf-5f1e123d6248",
   "metadata": {},
   "outputs": [
    {
     "data": {
      "text/html": [
       "<div>\n",
       "<style scoped>\n",
       "    .dataframe tbody tr th:only-of-type {\n",
       "        vertical-align: middle;\n",
       "    }\n",
       "\n",
       "    .dataframe tbody tr th {\n",
       "        vertical-align: top;\n",
       "    }\n",
       "\n",
       "    .dataframe thead th {\n",
       "        text-align: right;\n",
       "    }\n",
       "</style>\n",
       "<table border=\"1\" class=\"dataframe\">\n",
       "  <thead>\n",
       "    <tr style=\"text-align: right;\">\n",
       "      <th></th>\n",
       "      <th>Index</th>\n",
       "      <th>Company</th>\n",
       "      <th>Bean Origin</th>\n",
       "      <th>Reference</th>\n",
       "      <th>Review Date</th>\n",
       "      <th>Cocoa Percent</th>\n",
       "      <th>Company Location</th>\n",
       "      <th>Latitude</th>\n",
       "      <th>Longitude</th>\n",
       "      <th>Company Loc_Latitude</th>\n",
       "      <th>Company Loc_Longitude</th>\n",
       "      <th>Rating</th>\n",
       "      <th>Bean Type</th>\n",
       "      <th>Broad Bean Origin</th>\n",
       "      <th>Region_Final</th>\n",
       "      <th>Cluster</th>\n",
       "      <th>Latitude2</th>\n",
       "      <th>Longitude3</th>\n",
       "      <th>Broad Bean_Latitude</th>\n",
       "      <th>Broad Bean_Longitude</th>\n",
       "    </tr>\n",
       "  </thead>\n",
       "  <tbody>\n",
       "    <tr>\n",
       "      <th>0</th>\n",
       "      <td>440</td>\n",
       "      <td>Compania de Chocolate (Salgado)</td>\n",
       "      <td>Moxos</td>\n",
       "      <td>292</td>\n",
       "      <td>2008</td>\n",
       "      <td>0.72</td>\n",
       "      <td>Argentina</td>\n",
       "      <td>S 34° 0′ 0''</td>\n",
       "      <td>W 64° 0′ 0''</td>\n",
       "      <td>-34.0</td>\n",
       "      <td>-64.0</td>\n",
       "      <td>3.25</td>\n",
       "      <td>Unknown</td>\n",
       "      <td>Bolivia</td>\n",
       "      <td>Bolivia</td>\n",
       "      <td>Yellow</td>\n",
       "      <td>S 17° 0′ 0''</td>\n",
       "      <td>W 65° 0′ 0''</td>\n",
       "      <td>-17.00</td>\n",
       "      <td>-65.00</td>\n",
       "    </tr>\n",
       "    <tr>\n",
       "      <th>1</th>\n",
       "      <td>1414</td>\n",
       "      <td>Salgado</td>\n",
       "      <td>Bahia Superior</td>\n",
       "      <td>288</td>\n",
       "      <td>2008</td>\n",
       "      <td>0.70</td>\n",
       "      <td>Argentina</td>\n",
       "      <td>S 34° 0′ 0''</td>\n",
       "      <td>W 64° 0′ 0''</td>\n",
       "      <td>-34.0</td>\n",
       "      <td>-64.0</td>\n",
       "      <td>3.50</td>\n",
       "      <td>Forastero</td>\n",
       "      <td>Brazil</td>\n",
       "      <td>Brazil</td>\n",
       "      <td>Yellow</td>\n",
       "      <td>S 10° 0′ 0''</td>\n",
       "      <td>W 55° 0′ 0''</td>\n",
       "      <td>-10.00</td>\n",
       "      <td>-55.00</td>\n",
       "    </tr>\n",
       "    <tr>\n",
       "      <th>2</th>\n",
       "      <td>442</td>\n",
       "      <td>Compania de Chocolate (Salgado)</td>\n",
       "      <td>Esmeraldas</td>\n",
       "      <td>296</td>\n",
       "      <td>2008</td>\n",
       "      <td>0.88</td>\n",
       "      <td>Argentina</td>\n",
       "      <td>S 34° 0′ 0''</td>\n",
       "      <td>W 64° 0′ 0''</td>\n",
       "      <td>-34.0</td>\n",
       "      <td>-64.0</td>\n",
       "      <td>2.75</td>\n",
       "      <td>Forastero (Nacional)</td>\n",
       "      <td>Ecuador</td>\n",
       "      <td>Ecuador</td>\n",
       "      <td>Yellow</td>\n",
       "      <td>S 1° 15′ 0''</td>\n",
       "      <td>W 78° 15′ 0''</td>\n",
       "      <td>-1.25</td>\n",
       "      <td>-78.25</td>\n",
       "    </tr>\n",
       "    <tr>\n",
       "      <th>3</th>\n",
       "      <td>1415</td>\n",
       "      <td>Salgado</td>\n",
       "      <td>Esmeraldas</td>\n",
       "      <td>288</td>\n",
       "      <td>2008</td>\n",
       "      <td>0.70</td>\n",
       "      <td>Argentina</td>\n",
       "      <td>S 34° 0′ 0''</td>\n",
       "      <td>W 64° 0′ 0''</td>\n",
       "      <td>-34.0</td>\n",
       "      <td>-64.0</td>\n",
       "      <td>3.50</td>\n",
       "      <td>Forastero (Nacional)</td>\n",
       "      <td>Ecuador</td>\n",
       "      <td>Ecuador</td>\n",
       "      <td>Yellow</td>\n",
       "      <td>S 1° 15′ 0''</td>\n",
       "      <td>W 78° 15′ 0''</td>\n",
       "      <td>-1.25</td>\n",
       "      <td>-78.25</td>\n",
       "    </tr>\n",
       "    <tr>\n",
       "      <th>4</th>\n",
       "      <td>1417</td>\n",
       "      <td>Salgado</td>\n",
       "      <td>Rio Arriba</td>\n",
       "      <td>292</td>\n",
       "      <td>2008</td>\n",
       "      <td>0.70</td>\n",
       "      <td>Argentina</td>\n",
       "      <td>S 34° 0′ 0''</td>\n",
       "      <td>W 64° 0′ 0''</td>\n",
       "      <td>-34.0</td>\n",
       "      <td>-64.0</td>\n",
       "      <td>3.50</td>\n",
       "      <td>Forastero (Arriba) ASSS</td>\n",
       "      <td>Ecuador</td>\n",
       "      <td>Ecuador</td>\n",
       "      <td>Yellow</td>\n",
       "      <td>S 1° 15′ 0''</td>\n",
       "      <td>W 78° 15′ 0''</td>\n",
       "      <td>-1.25</td>\n",
       "      <td>-78.25</td>\n",
       "    </tr>\n",
       "  </tbody>\n",
       "</table>\n",
       "</div>"
      ],
      "text/plain": [
       "   Index                          Company     Bean Origin  Reference  \\\n",
       "0    440  Compania de Chocolate (Salgado)           Moxos        292   \n",
       "1   1414                          Salgado  Bahia Superior        288   \n",
       "2    442  Compania de Chocolate (Salgado)      Esmeraldas        296   \n",
       "3   1415                          Salgado      Esmeraldas        288   \n",
       "4   1417                          Salgado      Rio Arriba        292   \n",
       "\n",
       "   Review Date  Cocoa Percent Company Location      Latitude     Longitude  \\\n",
       "0         2008           0.72        Argentina  S 34° 0′ 0''  W 64° 0′ 0''   \n",
       "1         2008           0.70        Argentina  S 34° 0′ 0''  W 64° 0′ 0''   \n",
       "2         2008           0.88        Argentina  S 34° 0′ 0''  W 64° 0′ 0''   \n",
       "3         2008           0.70        Argentina  S 34° 0′ 0''  W 64° 0′ 0''   \n",
       "4         2008           0.70        Argentina  S 34° 0′ 0''  W 64° 0′ 0''   \n",
       "\n",
       "   Company Loc_Latitude  Company Loc_Longitude  Rating  \\\n",
       "0                 -34.0                  -64.0    3.25   \n",
       "1                 -34.0                  -64.0    3.50   \n",
       "2                 -34.0                  -64.0    2.75   \n",
       "3                 -34.0                  -64.0    3.50   \n",
       "4                 -34.0                  -64.0    3.50   \n",
       "\n",
       "                 Bean Type Broad Bean Origin Region_Final Cluster  \\\n",
       "0                  Unknown           Bolivia      Bolivia  Yellow   \n",
       "1                Forastero            Brazil       Brazil  Yellow   \n",
       "2     Forastero (Nacional)           Ecuador      Ecuador  Yellow   \n",
       "3     Forastero (Nacional)           Ecuador      Ecuador  Yellow   \n",
       "4  Forastero (Arriba) ASSS           Ecuador      Ecuador  Yellow   \n",
       "\n",
       "      Latitude2     Longitude3  Broad Bean_Latitude  Broad Bean_Longitude  \n",
       "0  S 17° 0′ 0''   W 65° 0′ 0''               -17.00                -65.00  \n",
       "1  S 10° 0′ 0''   W 55° 0′ 0''               -10.00                -55.00  \n",
       "2  S 1° 15′ 0''  W 78° 15′ 0''                -1.25                -78.25  \n",
       "3  S 1° 15′ 0''  W 78° 15′ 0''                -1.25                -78.25  \n",
       "4  S 1° 15′ 0''  W 78° 15′ 0''                -1.25                -78.25  "
      ]
     },
     "execution_count": 55,
     "metadata": {},
     "output_type": "execute_result"
    }
   ],
   "source": [
    "df_cacao.head()"
   ]
  },
  {
   "cell_type": "code",
   "execution_count": 56,
   "id": "1c29f256-e6c9-4760-ae93-c96f1910c6dd",
   "metadata": {},
   "outputs": [],
   "source": [
    "#Select and prepare numerical data\n",
    "numerical_columns = ['Review Date', 'Cocoa Percent', 'Rating']\n",
    "data_numerical = df_cacao[numerical_columns]"
   ]
  },
  {
   "cell_type": "code",
   "execution_count": 57,
   "id": "34a80978-dbfe-448a-a010-5dedfae74a98",
   "metadata": {},
   "outputs": [
    {
     "data": {
      "text/html": [
       "<div>\n",
       "<style scoped>\n",
       "    .dataframe tbody tr th:only-of-type {\n",
       "        vertical-align: middle;\n",
       "    }\n",
       "\n",
       "    .dataframe tbody tr th {\n",
       "        vertical-align: top;\n",
       "    }\n",
       "\n",
       "    .dataframe thead th {\n",
       "        text-align: right;\n",
       "    }\n",
       "</style>\n",
       "<table border=\"1\" class=\"dataframe\">\n",
       "  <thead>\n",
       "    <tr style=\"text-align: right;\">\n",
       "      <th></th>\n",
       "      <th>Review Date</th>\n",
       "      <th>Cocoa Percent</th>\n",
       "      <th>Rating</th>\n",
       "    </tr>\n",
       "  </thead>\n",
       "  <tbody>\n",
       "    <tr>\n",
       "      <th>0</th>\n",
       "      <td>2008</td>\n",
       "      <td>0.72</td>\n",
       "      <td>3.25</td>\n",
       "    </tr>\n",
       "    <tr>\n",
       "      <th>1</th>\n",
       "      <td>2008</td>\n",
       "      <td>0.70</td>\n",
       "      <td>3.50</td>\n",
       "    </tr>\n",
       "    <tr>\n",
       "      <th>2</th>\n",
       "      <td>2008</td>\n",
       "      <td>0.88</td>\n",
       "      <td>2.75</td>\n",
       "    </tr>\n",
       "    <tr>\n",
       "      <th>3</th>\n",
       "      <td>2008</td>\n",
       "      <td>0.70</td>\n",
       "      <td>3.50</td>\n",
       "    </tr>\n",
       "    <tr>\n",
       "      <th>4</th>\n",
       "      <td>2008</td>\n",
       "      <td>0.70</td>\n",
       "      <td>3.50</td>\n",
       "    </tr>\n",
       "    <tr>\n",
       "      <th>...</th>\n",
       "      <td>...</td>\n",
       "      <td>...</td>\n",
       "      <td>...</td>\n",
       "    </tr>\n",
       "    <tr>\n",
       "      <th>1786</th>\n",
       "      <td>2012</td>\n",
       "      <td>0.72</td>\n",
       "      <td>3.50</td>\n",
       "    </tr>\n",
       "    <tr>\n",
       "      <th>1787</th>\n",
       "      <td>2012</td>\n",
       "      <td>0.70</td>\n",
       "      <td>3.50</td>\n",
       "    </tr>\n",
       "    <tr>\n",
       "      <th>1788</th>\n",
       "      <td>2012</td>\n",
       "      <td>0.78</td>\n",
       "      <td>3.50</td>\n",
       "    </tr>\n",
       "    <tr>\n",
       "      <th>1789</th>\n",
       "      <td>2012</td>\n",
       "      <td>0.80</td>\n",
       "      <td>3.00</td>\n",
       "    </tr>\n",
       "    <tr>\n",
       "      <th>1790</th>\n",
       "      <td>2012</td>\n",
       "      <td>0.74</td>\n",
       "      <td>3.50</td>\n",
       "    </tr>\n",
       "  </tbody>\n",
       "</table>\n",
       "<p>1791 rows × 3 columns</p>\n",
       "</div>"
      ],
      "text/plain": [
       "      Review Date  Cocoa Percent  Rating\n",
       "0            2008           0.72    3.25\n",
       "1            2008           0.70    3.50\n",
       "2            2008           0.88    2.75\n",
       "3            2008           0.70    3.50\n",
       "4            2008           0.70    3.50\n",
       "...           ...            ...     ...\n",
       "1786         2012           0.72    3.50\n",
       "1787         2012           0.70    3.50\n",
       "1788         2012           0.78    3.50\n",
       "1789         2012           0.80    3.00\n",
       "1790         2012           0.74    3.50\n",
       "\n",
       "[1791 rows x 3 columns]"
      ]
     },
     "execution_count": 57,
     "metadata": {},
     "output_type": "execute_result"
    }
   ],
   "source": [
    "data_numerical"
   ]
  },
  {
   "cell_type": "markdown",
   "id": "837baa66-4c8e-4eca-94fb-dcaa7b856a84",
   "metadata": {},
   "source": [
    "**Note:** Reference column is excluded as it works  just an identifier (ID) and doesn't carry any meaningful numerical value for clustering."
   ]
  },
  {
   "cell_type": "code",
   "execution_count": 59,
   "id": "c98c6284-168d-4f6f-9eb3-f078e524b213",
   "metadata": {},
   "outputs": [],
   "source": [
    "#Standardize the numerical data\n",
    "scaler = StandardScaler()\n",
    "data_scaled = scaler.fit_transform(data_numerical)"
   ]
  },
  {
   "cell_type": "code",
   "execution_count": 60,
   "id": "bb2e9a83-48d9-49bd-8643-c67d4e8cb19d",
   "metadata": {},
   "outputs": [
    {
     "data": {
      "text/plain": [
       "array([[-1.47822554,  0.04985324,  0.13280689],\n",
       "       [-1.47822554, -0.26704882,  0.6567213 ],\n",
       "       [-1.47822554,  2.58506974, -0.91502192],\n",
       "       ...,\n",
       "       [-0.11124377,  1.00055943,  0.6567213 ],\n",
       "       [-0.11124377,  1.31746149, -0.39110752],\n",
       "       [-0.11124377,  0.3667553 ,  0.6567213 ]])"
      ]
     },
     "execution_count": 60,
     "metadata": {},
     "output_type": "execute_result"
    }
   ],
   "source": [
    "data_scaled"
   ]
  },
  {
   "cell_type": "code",
   "execution_count": 61,
   "id": "cfc57513-9203-4cb6-b18e-9e98a1049e02",
   "metadata": {},
   "outputs": [],
   "source": [
    "# Convert the standardized data back to a DataFrame for easier manipulation\n",
    "data_scaled_df = pd.DataFrame(data_scaled, columns=numerical_columns)"
   ]
  },
  {
   "cell_type": "markdown",
   "id": "0c694090-8ca3-4b0f-ae71-0d1b1dba3a0f",
   "metadata": {},
   "source": [
    "#### 3. The elbow technique"
   ]
  },
  {
   "cell_type": "code",
   "execution_count": 63,
   "id": "690a6059-131b-4d65-abd3-e5f853083be7",
   "metadata": {},
   "outputs": [],
   "source": [
    "# Use Elbow Method to determine optimal k\n",
    "inertia = []\n",
    "k_values = range(1, 11)\n",
    "\n",
    "for k in k_values:\n",
    "    kmeans = KMeans(n_clusters=k, random_state=42)\n",
    "    kmeans.fit(data_scaled_df)\n",
    "    inertia.append(kmeans.inertia_)"
   ]
  },
  {
   "cell_type": "code",
   "execution_count": 64,
   "id": "7d7b6e88-c830-48c9-bda6-4ecd5104428c",
   "metadata": {},
   "outputs": [
    {
     "data": {
      "image/png": "[encoded data removed]",
      "text/plain": [
       "<Figure size 800x500 with 1 Axes>"
      ]
     },
     "metadata": {},
     "output_type": "display_data"
    }
   ],
   "source": [
    "# Plot the elbow curve\n",
    "plt.figure(figsize=(8, 5))\n",
    "plt.plot(k_values, inertia, marker='o')\n",
    "plt.title('Elbow Method For Optimal k')\n",
    "plt.xlabel('Number of Clusters (k)')\n",
    "plt.ylabel('Inertia (Sum of Squared Distances)')\n",
    "plt.show()"
   ]
  },
  {
   "cell_type": "markdown",
   "id": "08066cd0-a110-428b-b0a5-bcb0868f55f7",
   "metadata": {},
   "source": [
    "The curve begins to flatten around 3 clusters. After 3, the reduction in inertia becomes less significant, indicating that adding more clusters would not significantly improve the model’s fit. The ideal number of clusters for this dataset is 3."
   ]
  },
  {
   "cell_type": "markdown",
   "id": "a4914a77-b063-41bb-960b-16a5615a421b",
   "metadata": {},
   "source": [
    "#### 4. K-means clustering"
   ]
  },
  {
   "cell_type": "code",
   "execution_count": 67,
   "id": "51b87e2d-2f58-4b56-8117-ac375ab8ff04",
   "metadata": {},
   "outputs": [],
   "source": [
    "# Apply K-Means clustering with k=3\n",
    "kmeans = KMeans(n_clusters=3, random_state=42)\n",
    "clusters = kmeans.fit_predict(data_scaled_df)"
   ]
  },
  {
   "cell_type": "code",
   "execution_count": 68,
   "id": "56afaf5b-aa1b-4223-ac7f-402a1e95da24",
   "metadata": {},
   "outputs": [],
   "source": [
    "# Add the cluster labels to the original dataset\n",
    "df_cacao['Cluster'] = clusters"
   ]
  },
  {
   "cell_type": "code",
   "execution_count": 69,
   "id": "54cccea7-3a36-41ae-ad13-a3a12189aea7",
   "metadata": {},
   "outputs": [
    {
     "data": {
      "text/html": [
       "<div>\n",
       "<style scoped>\n",
       "    .dataframe tbody tr th:only-of-type {\n",
       "        vertical-align: middle;\n",
       "    }\n",
       "\n",
       "    .dataframe tbody tr th {\n",
       "        vertical-align: top;\n",
       "    }\n",
       "\n",
       "    .dataframe thead th {\n",
       "        text-align: right;\n",
       "    }\n",
       "</style>\n",
       "<table border=\"1\" class=\"dataframe\">\n",
       "  <thead>\n",
       "    <tr style=\"text-align: right;\">\n",
       "      <th></th>\n",
       "      <th>Index</th>\n",
       "      <th>Company</th>\n",
       "      <th>Bean Origin</th>\n",
       "      <th>Reference</th>\n",
       "      <th>Review Date</th>\n",
       "      <th>Cocoa Percent</th>\n",
       "      <th>Company Location</th>\n",
       "      <th>Latitude</th>\n",
       "      <th>Longitude</th>\n",
       "      <th>Company Loc_Latitude</th>\n",
       "      <th>Company Loc_Longitude</th>\n",
       "      <th>Rating</th>\n",
       "      <th>Bean Type</th>\n",
       "      <th>Broad Bean Origin</th>\n",
       "      <th>Region_Final</th>\n",
       "      <th>Cluster</th>\n",
       "      <th>Latitude2</th>\n",
       "      <th>Longitude3</th>\n",
       "      <th>Broad Bean_Latitude</th>\n",
       "      <th>Broad Bean_Longitude</th>\n",
       "    </tr>\n",
       "  </thead>\n",
       "  <tbody>\n",
       "    <tr>\n",
       "      <th>0</th>\n",
       "      <td>440</td>\n",
       "      <td>Compania de Chocolate (Salgado)</td>\n",
       "      <td>Moxos</td>\n",
       "      <td>292</td>\n",
       "      <td>2008</td>\n",
       "      <td>0.72</td>\n",
       "      <td>Argentina</td>\n",
       "      <td>S 34° 0′ 0''</td>\n",
       "      <td>W 64° 0′ 0''</td>\n",
       "      <td>-34.0</td>\n",
       "      <td>-64.0</td>\n",
       "      <td>3.25</td>\n",
       "      <td>Unknown</td>\n",
       "      <td>Bolivia</td>\n",
       "      <td>Bolivia</td>\n",
       "      <td>0</td>\n",
       "      <td>S 17° 0′ 0''</td>\n",
       "      <td>W 65° 0′ 0''</td>\n",
       "      <td>-17.00</td>\n",
       "      <td>-65.00</td>\n",
       "    </tr>\n",
       "    <tr>\n",
       "      <th>1</th>\n",
       "      <td>1414</td>\n",
       "      <td>Salgado</td>\n",
       "      <td>Bahia Superior</td>\n",
       "      <td>288</td>\n",
       "      <td>2008</td>\n",
       "      <td>0.70</td>\n",
       "      <td>Argentina</td>\n",
       "      <td>S 34° 0′ 0''</td>\n",
       "      <td>W 64° 0′ 0''</td>\n",
       "      <td>-34.0</td>\n",
       "      <td>-64.0</td>\n",
       "      <td>3.50</td>\n",
       "      <td>Forastero</td>\n",
       "      <td>Brazil</td>\n",
       "      <td>Brazil</td>\n",
       "      <td>0</td>\n",
       "      <td>S 10° 0′ 0''</td>\n",
       "      <td>W 55° 0′ 0''</td>\n",
       "      <td>-10.00</td>\n",
       "      <td>-55.00</td>\n",
       "    </tr>\n",
       "    <tr>\n",
       "      <th>2</th>\n",
       "      <td>442</td>\n",
       "      <td>Compania de Chocolate (Salgado)</td>\n",
       "      <td>Esmeraldas</td>\n",
       "      <td>296</td>\n",
       "      <td>2008</td>\n",
       "      <td>0.88</td>\n",
       "      <td>Argentina</td>\n",
       "      <td>S 34° 0′ 0''</td>\n",
       "      <td>W 64° 0′ 0''</td>\n",
       "      <td>-34.0</td>\n",
       "      <td>-64.0</td>\n",
       "      <td>2.75</td>\n",
       "      <td>Forastero (Nacional)</td>\n",
       "      <td>Ecuador</td>\n",
       "      <td>Ecuador</td>\n",
       "      <td>2</td>\n",
       "      <td>S 1° 15′ 0''</td>\n",
       "      <td>W 78° 15′ 0''</td>\n",
       "      <td>-1.25</td>\n",
       "      <td>-78.25</td>\n",
       "    </tr>\n",
       "    <tr>\n",
       "      <th>3</th>\n",
       "      <td>1415</td>\n",
       "      <td>Salgado</td>\n",
       "      <td>Esmeraldas</td>\n",
       "      <td>288</td>\n",
       "      <td>2008</td>\n",
       "      <td>0.70</td>\n",
       "      <td>Argentina</td>\n",
       "      <td>S 34° 0′ 0''</td>\n",
       "      <td>W 64° 0′ 0''</td>\n",
       "      <td>-34.0</td>\n",
       "      <td>-64.0</td>\n",
       "      <td>3.50</td>\n",
       "      <td>Forastero (Nacional)</td>\n",
       "      <td>Ecuador</td>\n",
       "      <td>Ecuador</td>\n",
       "      <td>0</td>\n",
       "      <td>S 1° 15′ 0''</td>\n",
       "      <td>W 78° 15′ 0''</td>\n",
       "      <td>-1.25</td>\n",
       "      <td>-78.25</td>\n",
       "    </tr>\n",
       "    <tr>\n",
       "      <th>4</th>\n",
       "      <td>1417</td>\n",
       "      <td>Salgado</td>\n",
       "      <td>Rio Arriba</td>\n",
       "      <td>292</td>\n",
       "      <td>2008</td>\n",
       "      <td>0.70</td>\n",
       "      <td>Argentina</td>\n",
       "      <td>S 34° 0′ 0''</td>\n",
       "      <td>W 64° 0′ 0''</td>\n",
       "      <td>-34.0</td>\n",
       "      <td>-64.0</td>\n",
       "      <td>3.50</td>\n",
       "      <td>Forastero (Arriba) ASSS</td>\n",
       "      <td>Ecuador</td>\n",
       "      <td>Ecuador</td>\n",
       "      <td>0</td>\n",
       "      <td>S 1° 15′ 0''</td>\n",
       "      <td>W 78° 15′ 0''</td>\n",
       "      <td>-1.25</td>\n",
       "      <td>-78.25</td>\n",
       "    </tr>\n",
       "  </tbody>\n",
       "</table>\n",
       "</div>"
      ],
      "text/plain": [
       "   Index                          Company     Bean Origin  Reference  \\\n",
       "0    440  Compania de Chocolate (Salgado)           Moxos        292   \n",
       "1   1414                          Salgado  Bahia Superior        288   \n",
       "2    442  Compania de Chocolate (Salgado)      Esmeraldas        296   \n",
       "3   1415                          Salgado      Esmeraldas        288   \n",
       "4   1417                          Salgado      Rio Arriba        292   \n",
       "\n",
       "   Review Date  Cocoa Percent Company Location      Latitude     Longitude  \\\n",
       "0         2008           0.72        Argentina  S 34° 0′ 0''  W 64° 0′ 0''   \n",
       "1         2008           0.70        Argentina  S 34° 0′ 0''  W 64° 0′ 0''   \n",
       "2         2008           0.88        Argentina  S 34° 0′ 0''  W 64° 0′ 0''   \n",
       "3         2008           0.70        Argentina  S 34° 0′ 0''  W 64° 0′ 0''   \n",
       "4         2008           0.70        Argentina  S 34° 0′ 0''  W 64° 0′ 0''   \n",
       "\n",
       "   Company Loc_Latitude  Company Loc_Longitude  Rating  \\\n",
       "0                 -34.0                  -64.0    3.25   \n",
       "1                 -34.0                  -64.0    3.50   \n",
       "2                 -34.0                  -64.0    2.75   \n",
       "3                 -34.0                  -64.0    3.50   \n",
       "4                 -34.0                  -64.0    3.50   \n",
       "\n",
       "                 Bean Type Broad Bean Origin Region_Final  Cluster  \\\n",
       "0                  Unknown           Bolivia      Bolivia        0   \n",
       "1                Forastero            Brazil       Brazil        0   \n",
       "2     Forastero (Nacional)           Ecuador      Ecuador        2   \n",
       "3     Forastero (Nacional)           Ecuador      Ecuador        0   \n",
       "4  Forastero (Arriba) ASSS           Ecuador      Ecuador        0   \n",
       "\n",
       "      Latitude2     Longitude3  Broad Bean_Latitude  Broad Bean_Longitude  \n",
       "0  S 17° 0′ 0''   W 65° 0′ 0''               -17.00                -65.00  \n",
       "1  S 10° 0′ 0''   W 55° 0′ 0''               -10.00                -55.00  \n",
       "2  S 1° 15′ 0''  W 78° 15′ 0''                -1.25                -78.25  \n",
       "3  S 1° 15′ 0''  W 78° 15′ 0''                -1.25                -78.25  \n",
       "4  S 1° 15′ 0''  W 78° 15′ 0''                -1.25                -78.25  "
      ]
     },
     "execution_count": 69,
     "metadata": {},
     "output_type": "execute_result"
    }
   ],
   "source": [
    "df_cacao.head()"
   ]
  },
  {
   "cell_type": "code",
   "execution_count": 70,
   "id": "5685aa22-f11e-49fc-90bd-d6f9c449e9a5",
   "metadata": {},
   "outputs": [
    {
     "data": {
      "text/plain": [
       "Cluster\n",
       "1    911\n",
       "0    523\n",
       "2    357\n",
       "Name: count, dtype: int64"
      ]
     },
     "execution_count": 70,
     "metadata": {},
     "output_type": "execute_result"
    }
   ],
   "source": [
    "df_cacao['Cluster'].value_counts()"
   ]
  },
  {
   "cell_type": "markdown",
   "id": "a22cdc16-1b13-4e93-9fc0-8d53dc3d5f46",
   "metadata": {},
   "source": [
    "##### 4.1 Visualizations"
   ]
  },
  {
   "cell_type": "code",
   "execution_count": 72,
   "id": "059abfbf-1ad1-4ffa-bb59-c77fd7f07422",
   "metadata": {},
   "outputs": [
    {
     "data": {
      "image/png": "[encoded data removed]",
      "text/plain": [
       "<Figure size 800x500 with 1 Axes>"
      ]
     },
     "metadata": {},
     "output_type": "display_data"
    }
   ],
   "source": [
    "# Visualize the clusters with scatterplots and include a legend for clusters\n",
    "plt.figure(figsize=(8, 5))\n",
    "scatter = plt.scatter(df_cacao['Cocoa Percent'], df_cacao['Rating'], c=clusters, cmap='viridis')\n",
    "\n",
    "# Add title and labels\n",
    "plt.title('Cocoa Percent vs Rating Clustered')\n",
    "plt.xlabel('Cocoa Percent')\n",
    "plt.ylabel('Rating')\n",
    "\n",
    "# Create a legend with cluster numbers\n",
    "legend1 = plt.legend(*scatter.legend_elements(), title=\"Clusters\", loc=\"upper right\")\n",
    "plt.gca().add_artist(legend1)\n",
    "\n",
    "plt.show()"
   ]
  },
  {
   "cell_type": "markdown",
   "id": "2ad08cd3-75b0-4072-b974-020587ac63b6",
   "metadata": {},
   "source": [
    "**Cocoa Percent vs Rating Clustered**\n",
    "\n",
    "- Cluster 0 (Purple): Chocolates with cocoa content primarily between 50% and 75% fall in this cluster, receiving moderate ratings around 3 to 3.5. This dense grouping suggests that chocolates in this cocoa range commonly achieve average ratings, with little variation due to cocoa content.\n",
    "\n",
    "- Cluster 1 (Green): This cluster represents higher cocoa content, mostly above 80%, with ratings centered around the mid-range (around 3). These chocolates with high cocoa content are less common and tend to receive average ratings, showing no clear trend toward higher or lower scores.\n",
    "\n",
    "- Cluster 2 (Yellow): Similar in cocoa percentage to Cluster 0, but with slightly lower ratings (around 2.5 to 3). This indicates that some chocolates with moderate cocoa content may receive lower ratings, possibly influenced by factors beyond cocoa content.\n",
    "\n",
    "**Overall Insight:** The clustering suggests a weak relationship between cocoa content and rating, as ratings do not consistently change with cocoa percentages. This supports the hypothesis that cocoa content alone does not significantly impact chocolate ratings."
   ]
  },
  {
   "cell_type": "code",
   "execution_count": 74,
   "id": "7df72150-1962-466e-9d85-b73ba14e1ee1",
   "metadata": {},
   "outputs": [
    {
     "data": {
      "image/png": "[encoded data removed]",
      "text/plain": [
       "<Figure size 800x500 with 1 Axes>"
      ]
     },
     "metadata": {},
     "output_type": "display_data"
    }
   ],
   "source": [
    "# Visualize clusters using the original Review Date (non-standardized) and Rating\n",
    "plt.figure(figsize=(8, 5))\n",
    "scatter = plt.scatter(df_cacao['Review Date'], df_cacao['Rating'], c=df_cacao['Cluster'], cmap='viridis')\n",
    "\n",
    "# Add title and labels\n",
    "plt.title('Review Date vs Rating Clustered')\n",
    "plt.xlabel('Review Date')\n",
    "plt.ylabel('Rating')\n",
    "\n",
    "# Create a legend with cluster numbers\n",
    "legend1 = plt.legend(*scatter.legend_elements(), title=\"Clusters\", loc=\"upper right\")\n",
    "plt.gca().add_artist(legend1)\n",
    "\n",
    "plt.show()\n"
   ]
  },
  {
   "cell_type": "markdown",
   "id": "d2df6686-4b0c-4f33-98bc-a924a715b1c3",
   "metadata": {},
   "source": [
    "**Review Date vs Rating Clustered**\n",
    "\n",
    "- There’s a clear pattern over time. The older reviews (from 2006–2010) tend to fall into one cluster (yellow), while more recent reviews (2012–2016) mostly fall into another (purple), with some overlap in the middle.\n",
    "  \n",
    "- This suggests that product ratings have changed over time. Newer reviews seem to be in a different cluster than older ones, which could reflect changing consumer preferences, evolving product quality, or market trends.\n",
    "\n",
    "- It looks like the clusters reflect a time-based trend, showing that reviews from different periods tend to group together. This could be useful for understanding how product perceptions have shifted over time. time.\n"
   ]
  },
  {
   "cell_type": "code",
   "execution_count": 76,
   "id": "aad8cf96-75ff-47c8-accc-c04d4d545f52",
   "metadata": {},
   "outputs": [
    {
     "name": "stderr",
     "output_type": "stream",
     "text": [
      "C:\\Users\\north\\AppData\\Local\\Temp\\ipykernel_22216\\2963623173.py:2: FutureWarning: Setting an item of incompatible dtype is deprecated and will raise an error in a future version of pandas. Value 'Yellow' has dtype incompatible with int32, please explicitly cast to a compatible dtype first.\n",
      "  df_cacao.loc[df_cacao['Cluster'] == 2, 'Cluster'] = 'Yellow'\n"
     ]
    }
   ],
   "source": [
    "# Rename clusters to more descriptive labels (optional)\n",
    "df_cacao.loc[df_cacao['Cluster'] == 2, 'Cluster'] = 'Yellow'\n",
    "df_cacao.loc[df_cacao['Cluster'] == 1, 'Cluster'] = 'Green'\n",
    "df_cacao.loc[df_cacao['Cluster'] == 0, 'Cluster'] = 'Purple'\n",
    "\n",
    "# Calculate descriptive statistics for each cluster\n",
    "cluster_stats = df_cacao.groupby('Cluster').agg({\n",
    "    'Review Date': ['mean', 'median'], \n",
    "    'Cocoa Percent': ['mean', 'median'], \n",
    "    'Rating': ['mean', 'median']\n",
    "})\n"
   ]
  },
  {
   "cell_type": "code",
   "execution_count": 77,
   "id": "a4d17e5a-b162-4d95-8042-e257297fedac",
   "metadata": {},
   "outputs": [
    {
     "data": {
      "text/html": [
       "<div>\n",
       "<style scoped>\n",
       "    .dataframe tbody tr th:only-of-type {\n",
       "        vertical-align: middle;\n",
       "    }\n",
       "\n",
       "    .dataframe tbody tr th {\n",
       "        vertical-align: top;\n",
       "    }\n",
       "\n",
       "    .dataframe thead tr th {\n",
       "        text-align: left;\n",
       "    }\n",
       "\n",
       "    .dataframe thead tr:last-of-type th {\n",
       "        text-align: right;\n",
       "    }\n",
       "</style>\n",
       "<table border=\"1\" class=\"dataframe\">\n",
       "  <thead>\n",
       "    <tr>\n",
       "      <th></th>\n",
       "      <th colspan=\"2\" halign=\"left\">Review Date</th>\n",
       "      <th colspan=\"2\" halign=\"left\">Cocoa Percent</th>\n",
       "      <th colspan=\"2\" halign=\"left\">Rating</th>\n",
       "    </tr>\n",
       "    <tr>\n",
       "      <th></th>\n",
       "      <th>mean</th>\n",
       "      <th>median</th>\n",
       "      <th>mean</th>\n",
       "      <th>median</th>\n",
       "      <th>mean</th>\n",
       "      <th>median</th>\n",
       "    </tr>\n",
       "    <tr>\n",
       "      <th>Cluster</th>\n",
       "      <th></th>\n",
       "      <th></th>\n",
       "      <th></th>\n",
       "      <th></th>\n",
       "      <th></th>\n",
       "      <th></th>\n",
       "    </tr>\n",
       "  </thead>\n",
       "  <tbody>\n",
       "    <tr>\n",
       "      <th>Green</th>\n",
       "      <td>2014.363337</td>\n",
       "      <td>2015.0</td>\n",
       "      <td>0.704885</td>\n",
       "      <td>0.70</td>\n",
       "      <td>3.321899</td>\n",
       "      <td>3.25</td>\n",
       "    </tr>\n",
       "    <tr>\n",
       "      <th>Purple</th>\n",
       "      <td>2009.022945</td>\n",
       "      <td>2009.0</td>\n",
       "      <td>0.688681</td>\n",
       "      <td>0.70</td>\n",
       "      <td>3.300191</td>\n",
       "      <td>3.25</td>\n",
       "    </tr>\n",
       "    <tr>\n",
       "      <th>Yellow</th>\n",
       "      <td>2011.963585</td>\n",
       "      <td>2012.0</td>\n",
       "      <td>0.788669</td>\n",
       "      <td>0.77</td>\n",
       "      <td>2.675070</td>\n",
       "      <td>2.75</td>\n",
       "    </tr>\n",
       "  </tbody>\n",
       "</table>\n",
       "</div>"
      ],
      "text/plain": [
       "         Review Date         Cocoa Percent           Rating       \n",
       "                mean  median          mean median      mean median\n",
       "Cluster                                                           \n",
       "Green    2014.363337  2015.0      0.704885   0.70  3.321899   3.25\n",
       "Purple   2009.022945  2009.0      0.688681   0.70  3.300191   3.25\n",
       "Yellow   2011.963585  2012.0      0.788669   0.77  2.675070   2.75"
      ]
     },
     "execution_count": 77,
     "metadata": {},
     "output_type": "execute_result"
    }
   ],
   "source": [
    "cluster_stats"
   ]
  },
  {
   "cell_type": "markdown",
   "id": "6834b5b5-92a5-40fd-b5f8-50a7bc9c32cf",
   "metadata": {},
   "source": [
    "### 4.2 Descriptive Statistics and Insights\r\n",
    "\r\n",
    "#### **Green Cluster**:\r\n",
    "- **Review Date**: This cluster contains the most recently reviewed products, with an average review year of **2014.4** and a median of **2015**. This suggests that the chocolates in this cluster are relatively new compared to others.\r\n",
    "- **Cocoa Percent**: The average cocoa content in this cluster is **70.5%**, with a median of **70%**, indicating that these are high-cocoa products, likely appreciated by those with a preference for darker chocolates.\r\n",
    "- **Rating**: The average rating for this cluster is **3.32**, with a median rating of **3.25**, suggesting that these newer, high-cocoa products are moderately well-received.\r\n",
    "\r\n",
    "> **Insight**: The **green cluster** represents more recent, high-cocoa chocolates that receive average ratings, possibly appealing to consumers who appreciate the complexity of higher cocoa content.\r\n",
    "\r\n",
    "---\r\n",
    "\r\n",
    "#### **Purple Cluster**:\r\n",
    "- **Review Date**: The products in this cluster have an average review year of **2009.0** and a median of **2009**, making them older than those in the green cluster.\r\n",
    "- **Cocoa Percent**: The average cocoa content for this cluster is **68.9%**, with a median of **70%**, slightly lower than the green cluster but still high enough to appeal to dark chocolate enthusiasts.\r\n",
    "- **Rating**: The average rating is **3.30**, with a median rating of **3.25**, similar to the green cluster, indicating moderate consumer reception.\r\n",
    "\r\n",
    "> **Insight**: The **purple cluster** includes moderately rated products with high cocoa content, which tend to be older than the green cluster. These chocolates might appeal to traditional dark chocolate fans, maintaining a stable consumer interest over time.\r\n",
    "\r\n",
    "---\r\n",
    "\r\n",
    "#### **Yellow Cluster**:\r\n",
    "- **Review Date**: The average review year for this cluster is **2012.0** with a median of **2012**, indicating that these chocolates have been on the market longer than the green cluster but are more recent than those in the purple cluster.\r\n",
    "- **Cocoa Percent**: The average cocoa percentage is **78.9%**, with a median of **77%**, making this cluster the highest in cocoa content, likely representing the darkest chocolates in the dataset.\r\n",
    "- **Rating**: This cluster has the lowest average rating of **2.68**, with a median rating of **2.75**, suggesting that these high-cocoa chocolates are less favorably received, potentially due to their intense flavor profile.\r\n",
    "\r\n",
    "> **Insight**: The **yellow cluster** represents older, very high-cocoa chocolates that tend to have lower ratings, possibly due to their intense taste, which might not appeal to a broad audience.\r\n",
    "\r\n",
    "---\r\n",
    "\r\n",
    "### Overall Insights:\r\n",
    "- The **green cluster** comprises newer, high-cocoa products with average ratings, indicating moderate consumer acceptance of these darker chocolates.\r\n",
    "- The **purple cluster** contains older, moderately high-cocoa products with stable, average ratings, possibly appealing to traditional dark chocolate fans.\r\n",
    "- The **yellow cluster** includes the highest cocoa content chocolates, which receive the lowest ratings, potentially reflecting the niche appeal of very dark chocolates.\r\n",
    "\r\n",
    "These clusters provide insights into how review date, cocoa content, and ratings interact, suggesting that newer products with moderate to high cocoa content are better received than the oldest and most intense ones. Further exploration of additional factors, such as **brand reputation**, **bean origin**, and **region**, could help identify other influences on consumer ratings.\r\n"
   ]
  },
  {
   "cell_type": "markdown",
   "id": "1513e917-061f-4646-ab91-63f15cac1fc9",
   "metadata": {},
   "source": [
    "#### Possible future steps:\n",
    "\n",
    "- Green Cluster (High Cocoa, Lower Ratings): Focus on how Cocoa Percent and Region influence the lower ratings. Investigate whether certain regions are producing high-cocoa products that aren’t as well received and if adjustments can be made.\n",
    "\n",
    "- Purple Cluster (Moderate Cocoa, Higher Ratings): Explore how Company Location and Region affect the higher ratings. This can help identify regions or companies producing well-regarded products and guide future product development.\n",
    "\n",
    "- Yellow Cluster (Older Products, Mid-Range Ratings): Analyze how Region and Review Date impact ratings in this cluster. Investigate if products from certain regions are aging poorly or need improvements to boost customer satisfaction."
   ]
  },
  {
   "cell_type": "markdown",
   "id": "e9e9dabb-8a04-4b31-bbd4-f78bb4bb9459",
   "metadata": {},
   "source": [
    "#### 5. Export data"
   ]
  },
  {
   "cell_type": "code",
   "execution_count": 81,
   "id": "b18a7acb-ef7a-4152-b685-e2fdc1ad686a",
   "metadata": {},
   "outputs": [],
   "source": [
    "df_cacao.to_csv(os.path.join(path, 'cleaned_cacao_data_mapped_clustered.csv'))"
   ]
  },
  {
   "cell_type": "code",
   "execution_count": null,
   "id": "ea0bb410-7592-4d6c-82cf-574c88f134a3",
   "metadata": {},
   "outputs": [],
   "source": []
  }
 ],
 "metadata": {
  "kernelspec": {
   "display_name": "Python 3 (ipykernel)",
   "language": "python",
   "name": "python3"
  },
  "language_info": {
   "codemirror_mode": {
    "name": "ipython",
    "version": 3
   },
   "file_extension": ".py",
   "mimetype": "text/x-python",
   "name": "python",
   "nbconvert_exporter": "python",
   "pygments_lexer": "ipython3",
   "version": "3.12.4"
  }
 },
 "nbformat": 4,
 "nbformat_minor": 5
}
